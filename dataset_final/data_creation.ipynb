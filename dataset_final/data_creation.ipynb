{
 "cells": [
  {
   "cell_type": "markdown",
   "id": "e6a6a44f-921c-4ec5-b57f-321cac242c0f",
   "metadata": {},
   "source": [
    "# Relevant Imports"
   ]
  },
  {
   "cell_type": "code",
   "execution_count": 24,
   "id": "41249be2-5086-4551-8f49-998634a206c6",
   "metadata": {},
   "outputs": [],
   "source": [
    "import pandas as pd\n",
    "import yfinance as yf\n",
    "import numpy as np"
   ]
  },
  {
   "cell_type": "markdown",
   "id": "f9e53b1c-2aae-44bd-a67c-48a6acef140a",
   "metadata": {},
   "source": [
    "# Preprocessing"
   ]
  },
  {
   "cell_type": "code",
   "execution_count": 20,
   "id": "af1b4319-7349-40da-b177-6f5f131192e5",
   "metadata": {},
   "outputs": [
    {
     "data": {
      "text/html": [
       "<div>\n",
       "<style scoped>\n",
       "    .dataframe tbody tr th:only-of-type {\n",
       "        vertical-align: middle;\n",
       "    }\n",
       "\n",
       "    .dataframe tbody tr th {\n",
       "        vertical-align: top;\n",
       "    }\n",
       "\n",
       "    .dataframe thead th {\n",
       "        text-align: right;\n",
       "    }\n",
       "</style>\n",
       "<table border=\"1\" class=\"dataframe\">\n",
       "  <thead>\n",
       "    <tr style=\"text-align: right;\">\n",
       "      <th></th>\n",
       "      <th>Title</th>\n",
       "      <th>Tag</th>\n",
       "      <th>Time</th>\n",
       "      <th>Content</th>\n",
       "    </tr>\n",
       "  </thead>\n",
       "  <tbody>\n",
       "    <tr>\n",
       "      <th>0</th>\n",
       "      <td>TSX Slightly Down, Books Weekly Gains</td>\n",
       "      <td>Stock Market</td>\n",
       "      <td>16/07/2023</td>\n",
       "      <td>TSX Slightly Down, Books Weekly GainsUnited St...</td>\n",
       "    </tr>\n",
       "    <tr>\n",
       "      <th>1</th>\n",
       "      <td>UnitedHealth Hits 4-week High</td>\n",
       "      <td>stocks</td>\n",
       "      <td>15/07/2023</td>\n",
       "      <td>UnitedHealth Hits 4-week HighUnited States sto...</td>\n",
       "    </tr>\n",
       "    <tr>\n",
       "      <th>2</th>\n",
       "      <td>Cisco Systems Hits 4-week Low</td>\n",
       "      <td>stocks</td>\n",
       "      <td>15/07/2023</td>\n",
       "      <td>Cisco Systems Hits 4-week LowUnited States sto...</td>\n",
       "    </tr>\n",
       "    <tr>\n",
       "      <th>3</th>\n",
       "      <td>AT&amp;T Hits All-time Low</td>\n",
       "      <td>stocks</td>\n",
       "      <td>15/07/2023</td>\n",
       "      <td>AT&amp;T Hits All-time LowUnited States stocksAT&amp;T...</td>\n",
       "    </tr>\n",
       "    <tr>\n",
       "      <th>4</th>\n",
       "      <td>Microsoft Hits 4-week High</td>\n",
       "      <td>stocks</td>\n",
       "      <td>15/07/2023</td>\n",
       "      <td>Microsoft Hits 4-week HighUnited States stocks...</td>\n",
       "    </tr>\n",
       "  </tbody>\n",
       "</table>\n",
       "</div>"
      ],
      "text/plain": [
       "                                   Title           Tag        Time  \\\n",
       "0  TSX Slightly Down, Books Weekly Gains  Stock Market  16/07/2023   \n",
       "1          UnitedHealth Hits 4-week High        stocks  15/07/2023   \n",
       "2          Cisco Systems Hits 4-week Low        stocks  15/07/2023   \n",
       "3                 AT&T Hits All-time Low        stocks  15/07/2023   \n",
       "4             Microsoft Hits 4-week High        stocks  15/07/2023   \n",
       "\n",
       "                                             Content  \n",
       "0  TSX Slightly Down, Books Weekly GainsUnited St...  \n",
       "1  UnitedHealth Hits 4-week HighUnited States sto...  \n",
       "2  Cisco Systems Hits 4-week LowUnited States sto...  \n",
       "3  AT&T Hits All-time LowUnited States stocksAT&T...  \n",
       "4  Microsoft Hits 4-week HighUnited States stocks...  "
      ]
     },
     "execution_count": 20,
     "metadata": {},
     "output_type": "execute_result"
    }
   ],
   "source": [
    "df = pd.read_csv('FinSen_US_Categorized_Timestamp (1).csv')\n",
    "df.head()"
   ]
  },
  {
   "cell_type": "code",
   "execution_count": 21,
   "id": "5ce97c04-0bf3-4942-b11b-e266322cb534",
   "metadata": {},
   "outputs": [],
   "source": [
    "pattern = r'(\\d+\\s+days\\s+ago|20\\d{2}(?:-\\d{2}-\\d{2}(?:T\\d{2}:\\d{2}:\\d{2}(?:\\.\\d+)?)?)?)$'\n",
    "df['Content'] = df['Content'].str.replace(pattern, '', regex=True).str.strip()\n",
    "df = df.reset_index(drop=True)\n"
   ]
  },
  {
   "cell_type": "code",
   "execution_count": 22,
   "id": "aa323068-e918-4718-aee7-85cb8b594013",
   "metadata": {},
   "outputs": [],
   "source": [
    "df.to_csv('FinSen_text.csv')"
   ]
  },
  {
   "cell_type": "code",
   "execution_count": 26,
   "id": "da4b4f12-284e-40f7-b747-db0b32399a56",
   "metadata": {},
   "outputs": [
    {
     "name": "stderr",
     "output_type": "stream",
     "text": [
      "[*********************100%%**********************]  1 of 1 completed"
     ]
    },
    {
     "name": "stdout",
     "output_type": "stream",
     "text": [
      "               Open    Close     High        Volume\n",
      "Date                                               \n",
      "2023-07-14  4514.60  4505.41  4527.75  3.647450e+09\n",
      "2023-07-13  4491.50  4510.04  4517.37  3.839530e+09\n",
      "2023-07-12  4467.68  4472.16  4488.33  3.920290e+09\n",
      "2023-07-11  4415.54  4439.25  4443.64  3.624220e+09\n",
      "2023-07-10  4394.22  4409.52  4412.60  3.429600e+09\n",
      "...             ...      ...      ...           ...\n",
      "2007-06-08  1490.70  1507.67  1507.76  2.993460e+09\n",
      "2007-06-07  1517.35  1490.71  1517.35  3.538470e+09\n",
      "2007-06-06  1530.56  1517.38  1530.56  2.964190e+09\n",
      "2007-06-05  1539.11  1530.94  1539.11  2.939450e+09\n",
      "2007-06-04  1536.28  1539.18  1540.53  2.738930e+09\n",
      "\n",
      "[4057 rows x 4 columns]\n"
     ]
    },
    {
     "name": "stderr",
     "output_type": "stream",
     "text": [
      "\n"
     ]
    }
   ],
   "source": [
    "# Define the ticker symbol for the S&P 500 index\n",
    "ticker_symbol = '^GSPC'\n",
    "\n",
    "# Specify the start and end dates in 'YYYY-MM-DD' format\n",
    "start_date = '2007-06-04'\n",
    "end_date = '2023-07-16'\n",
    "\n",
    "# Download the historical data for the specified date range\n",
    "data = yf.download(ticker_symbol, start=start_date, end=end_date)\n",
    "\n",
    "# Select only the 'Open', 'Close', and 'High' columns\n",
    "data = data[['Open', 'Close', 'High', 'Volume']]\n",
    "\n",
    "# Truncate the numbers to have only two decimal points without rounding off\n",
    "data = np.trunc(data * 100) / 100\n",
    "\n",
    "# Sort the data so that it starts from the last date\n",
    "data = data.sort_index(ascending=False)\n",
    "\n",
    "# Display the data\n",
    "print(data)\n",
    "\n",
    "# Optionally, save the data to a CSV file starting from the last date\n",
    "data.to_csv('S&P500_numerical.csv')"
   ]
  },
  {
   "cell_type": "code",
   "execution_count": 28,
   "id": "693684b1-fa72-451a-8b72-de4a688eb540",
   "metadata": {},
   "outputs": [
    {
     "data": {
      "text/html": [
       "<div>\n",
       "<style scoped>\n",
       "    .dataframe tbody tr th:only-of-type {\n",
       "        vertical-align: middle;\n",
       "    }\n",
       "\n",
       "    .dataframe tbody tr th {\n",
       "        vertical-align: top;\n",
       "    }\n",
       "\n",
       "    .dataframe thead th {\n",
       "        text-align: right;\n",
       "    }\n",
       "</style>\n",
       "<table border=\"1\" class=\"dataframe\">\n",
       "  <thead>\n",
       "    <tr style=\"text-align: right;\">\n",
       "      <th></th>\n",
       "      <th>title</th>\n",
       "      <th>date</th>\n",
       "      <th>stock</th>\n",
       "    </tr>\n",
       "  </thead>\n",
       "  <tbody>\n",
       "    <tr>\n",
       "      <th>0</th>\n",
       "      <td>Stocks That Hit 52-Week Highs On Friday</td>\n",
       "      <td>2020-06-05 10:30:00-04:00</td>\n",
       "      <td>A</td>\n",
       "    </tr>\n",
       "    <tr>\n",
       "      <th>1</th>\n",
       "      <td>Stocks That Hit 52-Week Highs On Wednesday</td>\n",
       "      <td>2020-06-03 10:45:00-04:00</td>\n",
       "      <td>A</td>\n",
       "    </tr>\n",
       "    <tr>\n",
       "      <th>2</th>\n",
       "      <td>71 Biggest Movers From Friday</td>\n",
       "      <td>2020-05-26 04:30:00-04:00</td>\n",
       "      <td>A</td>\n",
       "    </tr>\n",
       "    <tr>\n",
       "      <th>3</th>\n",
       "      <td>46 Stocks Moving In Friday's Mid-Day Session</td>\n",
       "      <td>2020-05-22 12:45:00-04:00</td>\n",
       "      <td>A</td>\n",
       "    </tr>\n",
       "    <tr>\n",
       "      <th>4</th>\n",
       "      <td>B of A Securities Maintains Neutral on Agilent...</td>\n",
       "      <td>2020-05-22 11:38:00-04:00</td>\n",
       "      <td>A</td>\n",
       "    </tr>\n",
       "  </tbody>\n",
       "</table>\n",
       "</div>"
      ],
      "text/plain": [
       "                                               title  \\\n",
       "0            Stocks That Hit 52-Week Highs On Friday   \n",
       "1         Stocks That Hit 52-Week Highs On Wednesday   \n",
       "2                      71 Biggest Movers From Friday   \n",
       "3       46 Stocks Moving In Friday's Mid-Day Session   \n",
       "4  B of A Securities Maintains Neutral on Agilent...   \n",
       "\n",
       "                        date stock  \n",
       "0  2020-06-05 10:30:00-04:00     A  \n",
       "1  2020-06-03 10:45:00-04:00     A  \n",
       "2  2020-05-26 04:30:00-04:00     A  \n",
       "3  2020-05-22 12:45:00-04:00     A  \n",
       "4  2020-05-22 11:38:00-04:00     A  "
      ]
     },
     "execution_count": 28,
     "metadata": {},
     "output_type": "execute_result"
    }
   ],
   "source": [
    "df1 = pd.read_csv('analyst_ratings_processed.csv')\n",
    "# Drop the 'Unnamed: 0' column\n",
    "if 'Unnamed: 0' in df1.columns:\n",
    "    df1 = df1.drop(columns=['Unnamed: 0'])\n",
    "df1.head()"
   ]
  },
  {
   "cell_type": "code",
   "execution_count": 29,
   "id": "d9ae490b-4311-49ca-a835-a30f90e649c0",
   "metadata": {},
   "outputs": [
    {
     "data": {
      "text/html": [
       "<div>\n",
       "<style scoped>\n",
       "    .dataframe tbody tr th:only-of-type {\n",
       "        vertical-align: middle;\n",
       "    }\n",
       "\n",
       "    .dataframe tbody tr th {\n",
       "        vertical-align: top;\n",
       "    }\n",
       "\n",
       "    .dataframe thead th {\n",
       "        text-align: right;\n",
       "    }\n",
       "</style>\n",
       "<table border=\"1\" class=\"dataframe\">\n",
       "  <thead>\n",
       "    <tr style=\"text-align: right;\">\n",
       "      <th></th>\n",
       "      <th>title</th>\n",
       "      <th>date</th>\n",
       "      <th>stock</th>\n",
       "      <th>date_only</th>\n",
       "      <th>time_only</th>\n",
       "    </tr>\n",
       "  </thead>\n",
       "  <tbody>\n",
       "    <tr>\n",
       "      <th>0</th>\n",
       "      <td>Stocks That Hit 52-Week Highs On Friday</td>\n",
       "      <td>2020-06-05 10:30:00-04:00</td>\n",
       "      <td>A</td>\n",
       "      <td>2020-06-05</td>\n",
       "      <td>10:30:00-04:00</td>\n",
       "    </tr>\n",
       "    <tr>\n",
       "      <th>1</th>\n",
       "      <td>Stocks That Hit 52-Week Highs On Wednesday</td>\n",
       "      <td>2020-06-03 10:45:00-04:00</td>\n",
       "      <td>A</td>\n",
       "      <td>2020-06-03</td>\n",
       "      <td>10:45:00-04:00</td>\n",
       "    </tr>\n",
       "    <tr>\n",
       "      <th>2</th>\n",
       "      <td>71 Biggest Movers From Friday</td>\n",
       "      <td>2020-05-26 04:30:00-04:00</td>\n",
       "      <td>A</td>\n",
       "      <td>2020-05-26</td>\n",
       "      <td>04:30:00-04:00</td>\n",
       "    </tr>\n",
       "    <tr>\n",
       "      <th>3</th>\n",
       "      <td>46 Stocks Moving In Friday's Mid-Day Session</td>\n",
       "      <td>2020-05-22 12:45:00-04:00</td>\n",
       "      <td>A</td>\n",
       "      <td>2020-05-22</td>\n",
       "      <td>12:45:00-04:00</td>\n",
       "    </tr>\n",
       "    <tr>\n",
       "      <th>4</th>\n",
       "      <td>B of A Securities Maintains Neutral on Agilent...</td>\n",
       "      <td>2020-05-22 11:38:00-04:00</td>\n",
       "      <td>A</td>\n",
       "      <td>2020-05-22</td>\n",
       "      <td>11:38:00-04:00</td>\n",
       "    </tr>\n",
       "  </tbody>\n",
       "</table>\n",
       "</div>"
      ],
      "text/plain": [
       "                                               title  \\\n",
       "0            Stocks That Hit 52-Week Highs On Friday   \n",
       "1         Stocks That Hit 52-Week Highs On Wednesday   \n",
       "2                      71 Biggest Movers From Friday   \n",
       "3       46 Stocks Moving In Friday's Mid-Day Session   \n",
       "4  B of A Securities Maintains Neutral on Agilent...   \n",
       "\n",
       "                        date stock   date_only       time_only  \n",
       "0  2020-06-05 10:30:00-04:00     A  2020-06-05  10:30:00-04:00  \n",
       "1  2020-06-03 10:45:00-04:00     A  2020-06-03  10:45:00-04:00  \n",
       "2  2020-05-26 04:30:00-04:00     A  2020-05-26  04:30:00-04:00  \n",
       "3  2020-05-22 12:45:00-04:00     A  2020-05-22  12:45:00-04:00  \n",
       "4  2020-05-22 11:38:00-04:00     A  2020-05-22  11:38:00-04:00  "
      ]
     },
     "execution_count": 29,
     "metadata": {},
     "output_type": "execute_result"
    }
   ],
   "source": [
    "# Convert the 'date' column to string (if it's not already)\n",
    "df1['date'] = df1['date'].astype(str)\n",
    "\n",
    "# Split the 'date' column into 'date_only' and 'time_only' based on the space\n",
    "df1[['date_only', 'time_only']] = df1['date'].str.split(' ', n=1, expand=True)\n",
    "df1.head()"
   ]
  },
  {
   "cell_type": "code",
   "execution_count": 30,
   "id": "47b77fa0-ceb3-4d9e-9246-20530b6170e9",
   "metadata": {},
   "outputs": [
    {
     "data": {
      "text/html": [
       "<div>\n",
       "<style scoped>\n",
       "    .dataframe tbody tr th:only-of-type {\n",
       "        vertical-align: middle;\n",
       "    }\n",
       "\n",
       "    .dataframe tbody tr th {\n",
       "        vertical-align: top;\n",
       "    }\n",
       "\n",
       "    .dataframe thead th {\n",
       "        text-align: right;\n",
       "    }\n",
       "</style>\n",
       "<table border=\"1\" class=\"dataframe\">\n",
       "  <thead>\n",
       "    <tr style=\"text-align: right;\">\n",
       "      <th></th>\n",
       "      <th>title</th>\n",
       "      <th>date</th>\n",
       "      <th>stock</th>\n",
       "      <th>date_only</th>\n",
       "    </tr>\n",
       "  </thead>\n",
       "  <tbody>\n",
       "    <tr>\n",
       "      <th>0</th>\n",
       "      <td>Stocks That Hit 52-Week Highs On Friday</td>\n",
       "      <td>2020-06-05 10:30:00-04:00</td>\n",
       "      <td>A</td>\n",
       "      <td>2020-06-05</td>\n",
       "    </tr>\n",
       "    <tr>\n",
       "      <th>1</th>\n",
       "      <td>Stocks That Hit 52-Week Highs On Wednesday</td>\n",
       "      <td>2020-06-03 10:45:00-04:00</td>\n",
       "      <td>A</td>\n",
       "      <td>2020-06-03</td>\n",
       "    </tr>\n",
       "    <tr>\n",
       "      <th>2</th>\n",
       "      <td>71 Biggest Movers From Friday</td>\n",
       "      <td>2020-05-26 04:30:00-04:00</td>\n",
       "      <td>A</td>\n",
       "      <td>2020-05-26</td>\n",
       "    </tr>\n",
       "    <tr>\n",
       "      <th>3</th>\n",
       "      <td>46 Stocks Moving In Friday's Mid-Day Session</td>\n",
       "      <td>2020-05-22 12:45:00-04:00</td>\n",
       "      <td>A</td>\n",
       "      <td>2020-05-22</td>\n",
       "    </tr>\n",
       "    <tr>\n",
       "      <th>4</th>\n",
       "      <td>B of A Securities Maintains Neutral on Agilent...</td>\n",
       "      <td>2020-05-22 11:38:00-04:00</td>\n",
       "      <td>A</td>\n",
       "      <td>2020-05-22</td>\n",
       "    </tr>\n",
       "  </tbody>\n",
       "</table>\n",
       "</div>"
      ],
      "text/plain": [
       "                                               title  \\\n",
       "0            Stocks That Hit 52-Week Highs On Friday   \n",
       "1         Stocks That Hit 52-Week Highs On Wednesday   \n",
       "2                      71 Biggest Movers From Friday   \n",
       "3       46 Stocks Moving In Friday's Mid-Day Session   \n",
       "4  B of A Securities Maintains Neutral on Agilent...   \n",
       "\n",
       "                        date stock   date_only  \n",
       "0  2020-06-05 10:30:00-04:00     A  2020-06-05  \n",
       "1  2020-06-03 10:45:00-04:00     A  2020-06-03  \n",
       "2  2020-05-26 04:30:00-04:00     A  2020-05-26  \n",
       "3  2020-05-22 12:45:00-04:00     A  2020-05-22  \n",
       "4  2020-05-22 11:38:00-04:00     A  2020-05-22  "
      ]
     },
     "execution_count": 30,
     "metadata": {},
     "output_type": "execute_result"
    }
   ],
   "source": [
    "df1 = df1.drop(columns=['time_only'])\n",
    "df1.head()"
   ]
  },
  {
   "cell_type": "code",
   "execution_count": 31,
   "id": "c90f7e1c-2154-494d-a1ae-e23586c0d189",
   "metadata": {},
   "outputs": [
    {
     "data": {
      "text/html": [
       "<div>\n",
       "<style scoped>\n",
       "    .dataframe tbody tr th:only-of-type {\n",
       "        vertical-align: middle;\n",
       "    }\n",
       "\n",
       "    .dataframe tbody tr th {\n",
       "        vertical-align: top;\n",
       "    }\n",
       "\n",
       "    .dataframe thead th {\n",
       "        text-align: right;\n",
       "    }\n",
       "</style>\n",
       "<table border=\"1\" class=\"dataframe\">\n",
       "  <thead>\n",
       "    <tr style=\"text-align: right;\">\n",
       "      <th></th>\n",
       "      <th>title</th>\n",
       "      <th>date</th>\n",
       "      <th>stock</th>\n",
       "      <th>Date</th>\n",
       "    </tr>\n",
       "  </thead>\n",
       "  <tbody>\n",
       "    <tr>\n",
       "      <th>0</th>\n",
       "      <td>Stocks That Hit 52-Week Highs On Friday</td>\n",
       "      <td>2020-06-05 10:30:00-04:00</td>\n",
       "      <td>A</td>\n",
       "      <td>2020-06-05</td>\n",
       "    </tr>\n",
       "    <tr>\n",
       "      <th>1</th>\n",
       "      <td>Stocks That Hit 52-Week Highs On Wednesday</td>\n",
       "      <td>2020-06-03 10:45:00-04:00</td>\n",
       "      <td>A</td>\n",
       "      <td>2020-06-03</td>\n",
       "    </tr>\n",
       "    <tr>\n",
       "      <th>2</th>\n",
       "      <td>71 Biggest Movers From Friday</td>\n",
       "      <td>2020-05-26 04:30:00-04:00</td>\n",
       "      <td>A</td>\n",
       "      <td>2020-05-26</td>\n",
       "    </tr>\n",
       "    <tr>\n",
       "      <th>3</th>\n",
       "      <td>46 Stocks Moving In Friday's Mid-Day Session</td>\n",
       "      <td>2020-05-22 12:45:00-04:00</td>\n",
       "      <td>A</td>\n",
       "      <td>2020-05-22</td>\n",
       "    </tr>\n",
       "    <tr>\n",
       "      <th>4</th>\n",
       "      <td>B of A Securities Maintains Neutral on Agilent...</td>\n",
       "      <td>2020-05-22 11:38:00-04:00</td>\n",
       "      <td>A</td>\n",
       "      <td>2020-05-22</td>\n",
       "    </tr>\n",
       "  </tbody>\n",
       "</table>\n",
       "</div>"
      ],
      "text/plain": [
       "                                               title  \\\n",
       "0            Stocks That Hit 52-Week Highs On Friday   \n",
       "1         Stocks That Hit 52-Week Highs On Wednesday   \n",
       "2                      71 Biggest Movers From Friday   \n",
       "3       46 Stocks Moving In Friday's Mid-Day Session   \n",
       "4  B of A Securities Maintains Neutral on Agilent...   \n",
       "\n",
       "                        date stock        Date  \n",
       "0  2020-06-05 10:30:00-04:00     A  2020-06-05  \n",
       "1  2020-06-03 10:45:00-04:00     A  2020-06-03  \n",
       "2  2020-05-26 04:30:00-04:00     A  2020-05-26  \n",
       "3  2020-05-22 12:45:00-04:00     A  2020-05-22  \n",
       "4  2020-05-22 11:38:00-04:00     A  2020-05-22  "
      ]
     },
     "execution_count": 31,
     "metadata": {},
     "output_type": "execute_result"
    }
   ],
   "source": [
    "df1 = df1.rename(columns={'date_only': 'Date'})\n",
    "df1.head()"
   ]
  },
  {
   "cell_type": "code",
   "execution_count": 32,
   "id": "582885ee-78e3-48df-b9b3-279cdae5fabe",
   "metadata": {},
   "outputs": [
    {
     "data": {
      "text/html": [
       "<div>\n",
       "<style scoped>\n",
       "    .dataframe tbody tr th:only-of-type {\n",
       "        vertical-align: middle;\n",
       "    }\n",
       "\n",
       "    .dataframe tbody tr th {\n",
       "        vertical-align: top;\n",
       "    }\n",
       "\n",
       "    .dataframe thead th {\n",
       "        text-align: right;\n",
       "    }\n",
       "</style>\n",
       "<table border=\"1\" class=\"dataframe\">\n",
       "  <thead>\n",
       "    <tr style=\"text-align: right;\">\n",
       "      <th></th>\n",
       "      <th>title</th>\n",
       "      <th>stock</th>\n",
       "      <th>Date</th>\n",
       "    </tr>\n",
       "  </thead>\n",
       "  <tbody>\n",
       "    <tr>\n",
       "      <th>0</th>\n",
       "      <td>Stocks That Hit 52-Week Highs On Friday</td>\n",
       "      <td>A</td>\n",
       "      <td>2020-06-05</td>\n",
       "    </tr>\n",
       "    <tr>\n",
       "      <th>1</th>\n",
       "      <td>Stocks That Hit 52-Week Highs On Wednesday</td>\n",
       "      <td>A</td>\n",
       "      <td>2020-06-03</td>\n",
       "    </tr>\n",
       "    <tr>\n",
       "      <th>2</th>\n",
       "      <td>71 Biggest Movers From Friday</td>\n",
       "      <td>A</td>\n",
       "      <td>2020-05-26</td>\n",
       "    </tr>\n",
       "    <tr>\n",
       "      <th>3</th>\n",
       "      <td>46 Stocks Moving In Friday's Mid-Day Session</td>\n",
       "      <td>A</td>\n",
       "      <td>2020-05-22</td>\n",
       "    </tr>\n",
       "    <tr>\n",
       "      <th>4</th>\n",
       "      <td>B of A Securities Maintains Neutral on Agilent...</td>\n",
       "      <td>A</td>\n",
       "      <td>2020-05-22</td>\n",
       "    </tr>\n",
       "  </tbody>\n",
       "</table>\n",
       "</div>"
      ],
      "text/plain": [
       "                                               title stock        Date\n",
       "0            Stocks That Hit 52-Week Highs On Friday     A  2020-06-05\n",
       "1         Stocks That Hit 52-Week Highs On Wednesday     A  2020-06-03\n",
       "2                      71 Biggest Movers From Friday     A  2020-05-26\n",
       "3       46 Stocks Moving In Friday's Mid-Day Session     A  2020-05-22\n",
       "4  B of A Securities Maintains Neutral on Agilent...     A  2020-05-22"
      ]
     },
     "execution_count": 32,
     "metadata": {},
     "output_type": "execute_result"
    }
   ],
   "source": [
    "df1 = df1.drop(columns=['date'])\n",
    "df1.head()"
   ]
  },
  {
   "cell_type": "markdown",
   "id": "9a50b580-f46a-4320-a3f2-4a12574be477",
   "metadata": {},
   "source": [
    "# Stock Ticker: MRK"
   ]
  },
  {
   "cell_type": "code",
   "execution_count": 33,
   "id": "a553a486-c694-48fd-998c-bd7dbf83c69f",
   "metadata": {},
   "outputs": [
    {
     "data": {
      "text/html": [
       "<div>\n",
       "<style scoped>\n",
       "    .dataframe tbody tr th:only-of-type {\n",
       "        vertical-align: middle;\n",
       "    }\n",
       "\n",
       "    .dataframe tbody tr th {\n",
       "        vertical-align: top;\n",
       "    }\n",
       "\n",
       "    .dataframe thead th {\n",
       "        text-align: right;\n",
       "    }\n",
       "</style>\n",
       "<table border=\"1\" class=\"dataframe\">\n",
       "  <thead>\n",
       "    <tr style=\"text-align: right;\">\n",
       "      <th></th>\n",
       "      <th>title</th>\n",
       "      <th>stock</th>\n",
       "      <th>Date</th>\n",
       "    </tr>\n",
       "  </thead>\n",
       "  <tbody>\n",
       "    <tr>\n",
       "      <th>838963</th>\n",
       "      <td>Shares of several healthcare companies are tra...</td>\n",
       "      <td>MRK</td>\n",
       "      <td>2020-06-11</td>\n",
       "    </tr>\n",
       "    <tr>\n",
       "      <th>838964</th>\n",
       "      <td>Johnson &amp; Johnson To Start Coronavirus Vaccine...</td>\n",
       "      <td>MRK</td>\n",
       "      <td>2020-06-11</td>\n",
       "    </tr>\n",
       "    <tr>\n",
       "      <th>838965</th>\n",
       "      <td>The Daily Biotech Pulse: Keytruda Setback For ...</td>\n",
       "      <td>MRK</td>\n",
       "      <td>2020-06-10</td>\n",
       "    </tr>\n",
       "    <tr>\n",
       "      <th>838966</th>\n",
       "      <td>Merck Announces That The Phase 3 KEYNOTE-361 T...</td>\n",
       "      <td>MRK</td>\n",
       "      <td>2020-06-09</td>\n",
       "    </tr>\n",
       "    <tr>\n",
       "      <th>838967</th>\n",
       "      <td>The Week Ahead In Biotech: Viela FDA Decision,...</td>\n",
       "      <td>MRK</td>\n",
       "      <td>2020-06-07</td>\n",
       "    </tr>\n",
       "  </tbody>\n",
       "</table>\n",
       "</div>"
      ],
      "text/plain": [
       "                                                    title stock        Date\n",
       "838963  Shares of several healthcare companies are tra...   MRK  2020-06-11\n",
       "838964  Johnson & Johnson To Start Coronavirus Vaccine...   MRK  2020-06-11\n",
       "838965  The Daily Biotech Pulse: Keytruda Setback For ...   MRK  2020-06-10\n",
       "838966  Merck Announces That The Phase 3 KEYNOTE-361 T...   MRK  2020-06-09\n",
       "838967  The Week Ahead In Biotech: Viela FDA Decision,...   MRK  2020-06-07"
      ]
     },
     "execution_count": 33,
     "metadata": {},
     "output_type": "execute_result"
    }
   ],
   "source": [
    "# Filter both dataframes for the stock 'MS'\n",
    "df1_filtered = df1[df1['stock'] == 'MRK']\n",
    "\n",
    "df1_filtered.head()"
   ]
  },
  {
   "cell_type": "code",
   "execution_count": 34,
   "id": "8c04b5e3-283e-4956-a677-80d0ba497467",
   "metadata": {},
   "outputs": [],
   "source": [
    "df1_filtered.to_csv('MRK_text.csv')"
   ]
  },
  {
   "cell_type": "code",
   "execution_count": 35,
   "id": "2dde9788-bd2b-453e-aba7-9e40cf00a979",
   "metadata": {},
   "outputs": [
    {
     "name": "stderr",
     "output_type": "stream",
     "text": [
      "[*********************100%%**********************]  1 of 1 completed"
     ]
    },
    {
     "name": "stdout",
     "output_type": "stream",
     "text": [
      "             Open  Close   High      Volume\n",
      "Date                                       \n",
      "2020-06-10  78.66  78.02  78.98   9080920.0\n",
      "2020-06-09  79.37  78.49  79.68   8846168.0\n",
      "2020-06-08  77.43  79.10  79.38   9956838.0\n",
      "2020-06-05  78.34  78.49  79.32  10413347.0\n",
      "2020-06-04  77.54  77.81  78.39   9292930.0\n",
      "...           ...    ...    ...         ...\n",
      "2009-07-31  28.81  28.63  29.17  16269362.0\n",
      "2009-07-30  28.82  28.56  29.55  24300290.0\n",
      "2009-07-29  28.63  28.50  28.75  16696736.0\n",
      "2009-07-28  29.30  28.64  29.49  23627265.0\n",
      "2009-07-27  29.69  29.36  29.75  21026758.0\n",
      "\n",
      "[2738 rows x 4 columns]\n"
     ]
    },
    {
     "name": "stderr",
     "output_type": "stream",
     "text": [
      "\n"
     ]
    }
   ],
   "source": [
    "# Define the ticker symbol for the S&P 500 index\n",
    "ticker_symbol = 'MRK'\n",
    "\n",
    "# Specify the start and end dates in 'YYYY-MM-DD' format\n",
    "start_date = '2009-07-27'\n",
    "end_date = '2020-06-11'\n",
    "\n",
    "# Download the historical data for the specified date range\n",
    "data = yf.download(ticker_symbol, start=start_date, end=end_date)\n",
    "\n",
    "# Select only the 'Open', 'Close', and 'High' columns\n",
    "data = data[['Open', 'Close', 'High', 'Volume']]\n",
    "\n",
    "# Truncate the numbers to have only two decimal points without rounding off\n",
    "data = np.trunc(data * 100) / 100\n",
    "\n",
    "# Sort the data so that it starts from the last date\n",
    "data = data.sort_index(ascending=False)\n",
    "\n",
    "# Display the data\n",
    "print(data)\n",
    "\n",
    "# Optionally, save the data to a CSV file starting from the last date\n",
    "data.to_csv('MRK_numerical.csv')"
   ]
  },
  {
   "cell_type": "markdown",
   "id": "dfba2a1d-6a14-4a44-8d36-01ee141d96e6",
   "metadata": {},
   "source": [
    "# Stock Ticker: MS"
   ]
  },
  {
   "cell_type": "code",
   "execution_count": 36,
   "id": "2866f745-a971-441d-8416-f014e5b5a03b",
   "metadata": {},
   "outputs": [
    {
     "data": {
      "text/html": [
       "<div>\n",
       "<style scoped>\n",
       "    .dataframe tbody tr th:only-of-type {\n",
       "        vertical-align: middle;\n",
       "    }\n",
       "\n",
       "    .dataframe tbody tr th {\n",
       "        vertical-align: top;\n",
       "    }\n",
       "\n",
       "    .dataframe thead th {\n",
       "        text-align: right;\n",
       "    }\n",
       "</style>\n",
       "<table border=\"1\" class=\"dataframe\">\n",
       "  <thead>\n",
       "    <tr style=\"text-align: right;\">\n",
       "      <th></th>\n",
       "      <th>title</th>\n",
       "      <th>stock</th>\n",
       "      <th>Date</th>\n",
       "    </tr>\n",
       "  </thead>\n",
       "  <tbody>\n",
       "    <tr>\n",
       "      <th>845602</th>\n",
       "      <td>Price Over Earnings Overview: Morgan Stanley</td>\n",
       "      <td>MS</td>\n",
       "      <td>2020-06-11</td>\n",
       "    </tr>\n",
       "    <tr>\n",
       "      <th>845603</th>\n",
       "      <td>Shares of several financial service companies ...</td>\n",
       "      <td>MS</td>\n",
       "      <td>2020-06-11</td>\n",
       "    </tr>\n",
       "    <tr>\n",
       "      <th>845604</th>\n",
       "      <td>Goldman Sachs Employees Returning To Their Des...</td>\n",
       "      <td>MS</td>\n",
       "      <td>2020-06-11</td>\n",
       "    </tr>\n",
       "    <tr>\n",
       "      <th>845605</th>\n",
       "      <td>Shares of several financial services companies...</td>\n",
       "      <td>MS</td>\n",
       "      <td>2020-06-10</td>\n",
       "    </tr>\n",
       "    <tr>\n",
       "      <th>845606</th>\n",
       "      <td>Morgan Stanley CEO James Gorman Says Markets B...</td>\n",
       "      <td>MS</td>\n",
       "      <td>2020-06-09</td>\n",
       "    </tr>\n",
       "  </tbody>\n",
       "</table>\n",
       "</div>"
      ],
      "text/plain": [
       "                                                    title stock        Date\n",
       "845602       Price Over Earnings Overview: Morgan Stanley    MS  2020-06-11\n",
       "845603  Shares of several financial service companies ...    MS  2020-06-11\n",
       "845604  Goldman Sachs Employees Returning To Their Des...    MS  2020-06-11\n",
       "845605  Shares of several financial services companies...    MS  2020-06-10\n",
       "845606  Morgan Stanley CEO James Gorman Says Markets B...    MS  2020-06-09"
      ]
     },
     "execution_count": 36,
     "metadata": {},
     "output_type": "execute_result"
    }
   ],
   "source": [
    "# Filter both dataframes for the stock 'MS'\n",
    "df2_filtered = df1[df1['stock'] == 'MS']\n",
    "\n",
    "df2_filtered.head()"
   ]
  },
  {
   "cell_type": "code",
   "execution_count": 37,
   "id": "70b24965-13b7-43ad-b806-02473fc4efb2",
   "metadata": {},
   "outputs": [],
   "source": [
    "df2_filtered.to_csv('MS_text.csv')"
   ]
  },
  {
   "cell_type": "code",
   "execution_count": 38,
   "id": "dcee0447-bed8-44be-8736-9d0e81b725e1",
   "metadata": {},
   "outputs": [
    {
     "name": "stderr",
     "output_type": "stream",
     "text": [
      "[*********************100%%**********************]  1 of 1 completed"
     ]
    },
    {
     "name": "stdout",
     "output_type": "stream",
     "text": [
      "             Open  Close   High      Volume\n",
      "Date                                       \n",
      "2020-06-10  50.02  48.68  50.50  14770900.0\n",
      "2020-06-09  48.72  50.40  50.68  15090400.0\n",
      "2020-06-08  50.52  50.15  50.68  12150300.0\n",
      "2020-06-05  51.29  49.52  51.84  17976100.0\n",
      "2020-06-04  46.70  48.68  48.75  15279600.0\n",
      "...           ...    ...    ...         ...\n",
      "2010-01-26  27.68  27.32  28.29  24376400.0\n",
      "2010-01-25  28.21  27.73  28.52  21100900.0\n",
      "2010-01-22  28.64  27.79  29.18  46713700.0\n",
      "2010-01-21  30.29  29.34  30.54  56774400.0\n",
      "2010-01-20  30.76  30.62  31.23  21198800.0\n",
      "\n",
      "[2616 rows x 4 columns]\n"
     ]
    },
    {
     "name": "stderr",
     "output_type": "stream",
     "text": [
      "\n"
     ]
    }
   ],
   "source": [
    "# Define the ticker symbol for the S&P 500 index\n",
    "ticker_symbol = 'MS'\n",
    "\n",
    "# Specify the start and end dates in 'YYYY-MM-DD' format\n",
    "start_date = '2010-01-20'\n",
    "end_date = '2020-06-11'\n",
    "\n",
    "# Download the historical data for the specified date range\n",
    "data = yf.download(ticker_symbol, start=start_date, end=end_date)\n",
    "\n",
    "# Select only the 'Open', 'Close', and 'High' columns\n",
    "data = data[['Open', 'Close', 'High', 'Volume']]\n",
    "\n",
    "# Truncate the numbers to have only two decimal points without rounding off\n",
    "data = np.trunc(data * 100) / 100\n",
    "\n",
    "# Sort the data so that it starts from the last date\n",
    "data = data.sort_index(ascending=False)\n",
    "\n",
    "# Display the data\n",
    "print(data)\n",
    "\n",
    "# Optionally, save the data to a CSV file starting from the last date\n",
    "data.to_csv('MS_numerical.csv')"
   ]
  },
  {
   "cell_type": "markdown",
   "id": "96098a3d-ee41-42fa-9a83-97a9988218e8",
   "metadata": {},
   "source": [
    "# Stock Ticker: MU"
   ]
  },
  {
   "cell_type": "code",
   "execution_count": 39,
   "id": "78ef1df3-b472-4bfd-89ed-adb76568931a",
   "metadata": {},
   "outputs": [
    {
     "data": {
      "text/html": [
       "<div>\n",
       "<style scoped>\n",
       "    .dataframe tbody tr th:only-of-type {\n",
       "        vertical-align: middle;\n",
       "    }\n",
       "\n",
       "    .dataframe tbody tr th {\n",
       "        vertical-align: top;\n",
       "    }\n",
       "\n",
       "    .dataframe thead th {\n",
       "        text-align: right;\n",
       "    }\n",
       "</style>\n",
       "<table border=\"1\" class=\"dataframe\">\n",
       "  <thead>\n",
       "    <tr style=\"text-align: right;\">\n",
       "      <th></th>\n",
       "      <th>title</th>\n",
       "      <th>stock</th>\n",
       "      <th>Date</th>\n",
       "    </tr>\n",
       "  </thead>\n",
       "  <tbody>\n",
       "    <tr>\n",
       "      <th>858403</th>\n",
       "      <td>Hearing Wedbush Downgrades Micron On Valuation...</td>\n",
       "      <td>MU</td>\n",
       "      <td>2020-06-10</td>\n",
       "    </tr>\n",
       "    <tr>\n",
       "      <th>858404</th>\n",
       "      <td>Many Smartphones Expected to Come with 256GB o...</td>\n",
       "      <td>MU</td>\n",
       "      <td>2020-06-08</td>\n",
       "    </tr>\n",
       "    <tr>\n",
       "      <th>858405</th>\n",
       "      <td>Shares of several companies in the broader tec...</td>\n",
       "      <td>MU</td>\n",
       "      <td>2020-06-05</td>\n",
       "    </tr>\n",
       "    <tr>\n",
       "      <th>858406</th>\n",
       "      <td>Shares of several technology companies are tra...</td>\n",
       "      <td>MU</td>\n",
       "      <td>2020-06-04</td>\n",
       "    </tr>\n",
       "    <tr>\n",
       "      <th>858407</th>\n",
       "      <td>Micron Launches Robot Design Challenge to Acce...</td>\n",
       "      <td>MU</td>\n",
       "      <td>2020-06-04</td>\n",
       "    </tr>\n",
       "  </tbody>\n",
       "</table>\n",
       "</div>"
      ],
      "text/plain": [
       "                                                    title stock        Date\n",
       "858403  Hearing Wedbush Downgrades Micron On Valuation...    MU  2020-06-10\n",
       "858404  Many Smartphones Expected to Come with 256GB o...    MU  2020-06-08\n",
       "858405  Shares of several companies in the broader tec...    MU  2020-06-05\n",
       "858406  Shares of several technology companies are tra...    MU  2020-06-04\n",
       "858407  Micron Launches Robot Design Challenge to Acce...    MU  2020-06-04"
      ]
     },
     "execution_count": 39,
     "metadata": {},
     "output_type": "execute_result"
    }
   ],
   "source": [
    "# Filter both dataframes for the stock 'MS'\n",
    "df3_filtered = df1[df1['stock'] == 'MU']\n",
    "\n",
    "df3_filtered.head()"
   ]
  },
  {
   "cell_type": "code",
   "execution_count": 40,
   "id": "47d97f7b-ed03-4263-98f4-3bd8e8e130a8",
   "metadata": {},
   "outputs": [],
   "source": [
    "df3_filtered.to_csv('MU_text.csv')"
   ]
  },
  {
   "cell_type": "code",
   "execution_count": 41,
   "id": "5c4cc7b3-81b2-4bb8-8d8c-a71849f7270b",
   "metadata": {},
   "outputs": [
    {
     "name": "stderr",
     "output_type": "stream",
     "text": [
      "[*********************100%%**********************]  1 of 1 completed"
     ]
    },
    {
     "name": "stdout",
     "output_type": "stream",
     "text": [
      "             Open  Close   High      Volume\n",
      "Date                                       \n",
      "2020-06-09  52.65  53.15  53.50  17840800.0\n",
      "2020-06-08  54.50  53.70  54.63  22850600.0\n",
      "2020-06-05  52.65  53.72  54.81  34110700.0\n",
      "2020-06-04  48.86  51.22  51.97  34830800.0\n",
      "2020-06-03  48.04  48.91  49.41  34662100.0\n",
      "...           ...    ...    ...         ...\n",
      "2011-04-27  11.60  11.80  11.82  29748500.0\n",
      "2011-04-26  11.35  11.60  11.64  27400000.0\n",
      "2011-04-25  11.46  11.32  11.48  20447100.0\n",
      "2011-04-21  11.47  11.52  11.72  43506100.0\n",
      "2011-04-20  10.89  11.39  11.40  52613700.0\n",
      "\n",
      "[2299 rows x 4 columns]\n"
     ]
    },
    {
     "name": "stderr",
     "output_type": "stream",
     "text": [
      "\n"
     ]
    }
   ],
   "source": [
    "# Define the ticker symbol for the S&P 500 index\n",
    "ticker_symbol = 'MU'\n",
    "\n",
    "# Specify the start and end dates in 'YYYY-MM-DD' format\n",
    "start_date = '2011-04-20'\n",
    "end_date = '2020-06-10'\n",
    "\n",
    "# Download the historical data for the specified date range\n",
    "data = yf.download(ticker_symbol, start=start_date, end=end_date)\n",
    "\n",
    "# Select only the 'Open', 'Close', and 'High' columns\n",
    "data = data[['Open', 'Close', 'High', 'Volume']]\n",
    "\n",
    "# Truncate the numbers to have only two decimal points without rounding off\n",
    "data = np.trunc(data * 100) / 100\n",
    "\n",
    "# Sort the data so that it starts from the last date\n",
    "data = data.sort_index(ascending=False)\n",
    "\n",
    "# Display the data\n",
    "print(data)\n",
    "\n",
    "# Optionally, save the data to a CSV file starting from the last date\n",
    "data.to_csv('MU_numerical.csv')"
   ]
  },
  {
   "cell_type": "markdown",
   "id": "2e146ffe-70b5-452b-8df0-9e1c3bead71d",
   "metadata": {},
   "source": [
    "# Stock Ticker: NVDA"
   ]
  },
  {
   "cell_type": "code",
   "execution_count": 42,
   "id": "2c17b057-e929-455a-9615-458fa4dc0fb9",
   "metadata": {},
   "outputs": [
    {
     "data": {
      "text/html": [
       "<div>\n",
       "<style scoped>\n",
       "    .dataframe tbody tr th:only-of-type {\n",
       "        vertical-align: middle;\n",
       "    }\n",
       "\n",
       "    .dataframe tbody tr th {\n",
       "        vertical-align: top;\n",
       "    }\n",
       "\n",
       "    .dataframe thead th {\n",
       "        text-align: right;\n",
       "    }\n",
       "</style>\n",
       "<table border=\"1\" class=\"dataframe\">\n",
       "  <thead>\n",
       "    <tr style=\"text-align: right;\">\n",
       "      <th></th>\n",
       "      <th>title</th>\n",
       "      <th>stock</th>\n",
       "      <th>Date</th>\n",
       "    </tr>\n",
       "  </thead>\n",
       "  <tbody>\n",
       "    <tr>\n",
       "      <th>917098</th>\n",
       "      <td>Shares of several technology companies are tra...</td>\n",
       "      <td>NVDA</td>\n",
       "      <td>2020-06-10</td>\n",
       "    </tr>\n",
       "    <tr>\n",
       "      <th>917099</th>\n",
       "      <td>Afternoon Market Stats in 5 Minutes</td>\n",
       "      <td>NVDA</td>\n",
       "      <td>2020-06-10</td>\n",
       "    </tr>\n",
       "    <tr>\n",
       "      <th>917100</th>\n",
       "      <td>Morning Market Stats in 5 Minutes</td>\n",
       "      <td>NVDA</td>\n",
       "      <td>2020-06-10</td>\n",
       "    </tr>\n",
       "    <tr>\n",
       "      <th>917101</th>\n",
       "      <td>Shares of several technology companies are tra...</td>\n",
       "      <td>NVDA</td>\n",
       "      <td>2020-06-09</td>\n",
       "    </tr>\n",
       "    <tr>\n",
       "      <th>917102</th>\n",
       "      <td>Afternoon Market Stats in 5 Minutes</td>\n",
       "      <td>NVDA</td>\n",
       "      <td>2020-06-08</td>\n",
       "    </tr>\n",
       "  </tbody>\n",
       "</table>\n",
       "</div>"
      ],
      "text/plain": [
       "                                                    title stock        Date\n",
       "917098  Shares of several technology companies are tra...  NVDA  2020-06-10\n",
       "917099                Afternoon Market Stats in 5 Minutes  NVDA  2020-06-10\n",
       "917100                  Morning Market Stats in 5 Minutes  NVDA  2020-06-10\n",
       "917101  Shares of several technology companies are tra...  NVDA  2020-06-09\n",
       "917102                Afternoon Market Stats in 5 Minutes  NVDA  2020-06-08"
      ]
     },
     "execution_count": 42,
     "metadata": {},
     "output_type": "execute_result"
    }
   ],
   "source": [
    "# Filter both dataframes for the stock 'MS'\n",
    "df4_filtered = df1[df1['stock'] == 'NVDA']\n",
    "\n",
    "df4_filtered.head()"
   ]
  },
  {
   "cell_type": "code",
   "execution_count": 43,
   "id": "f7207f50-4d31-4452-ab3b-93b3350d17da",
   "metadata": {},
   "outputs": [],
   "source": [
    "df4_filtered.to_csv('NVDA_text.csv')"
   ]
  },
  {
   "cell_type": "code",
   "execution_count": 44,
   "id": "a9e3fb91-6994-45f3-8a12-9375c8c55c18",
   "metadata": {},
   "outputs": [
    {
     "name": "stderr",
     "output_type": "stream",
     "text": [
      "[*********************100%%**********************]  1 of 1 completed"
     ]
    },
    {
     "name": "stdout",
     "output_type": "stream",
     "text": [
      "            Open  Close  High        Volume\n",
      "Date                                       \n",
      "2020-06-09  8.80   9.04  9.10  4.684880e+08\n",
      "2020-06-08  8.87   8.80  8.88  3.877360e+08\n",
      "2020-06-05  8.79   8.92  8.99  4.817480e+08\n",
      "2020-06-04  8.72   8.76  8.94  4.242800e+08\n",
      "2020-06-03  8.82   8.76  8.86  3.654400e+08\n",
      "...          ...    ...   ...           ...\n",
      "2011-03-09  0.48   0.47  0.49  1.318976e+09\n",
      "2011-03-08  0.51   0.48  0.51  1.947184e+09\n",
      "2011-03-07  0.52   0.51  0.52  1.019140e+09\n",
      "2011-03-04  0.52   0.51  0.52  9.597600e+08\n",
      "2011-03-03  0.53   0.52  0.53  1.593704e+09\n",
      "\n",
      "[2333 rows x 4 columns]\n"
     ]
    },
    {
     "name": "stderr",
     "output_type": "stream",
     "text": [
      "\n"
     ]
    }
   ],
   "source": [
    "# Define the ticker symbol for the S&P 500 index\n",
    "ticker_symbol = 'NVDA'\n",
    "\n",
    "# Specify the start and end dates in 'YYYY-MM-DD' format\n",
    "start_date = '2011-03-03'\n",
    "end_date = '2020-06-10'\n",
    "\n",
    "# Download the historical data for the specified date range\n",
    "data = yf.download(ticker_symbol, start=start_date, end=end_date)\n",
    "\n",
    "# Select only the 'Open', 'Close', and 'High' columns\n",
    "data = data[['Open', 'Close', 'High', 'Volume']]\n",
    "\n",
    "# Truncate the numbers to have only two decimal points without rounding off\n",
    "data = np.trunc(data * 100) / 100\n",
    "\n",
    "# Sort the data so that it starts from the last date\n",
    "data = data.sort_index(ascending=False)\n",
    "\n",
    "# Display the data\n",
    "print(data)\n",
    "\n",
    "# Optionally, save the data to a CSV file starting from the last date\n",
    "data.to_csv('NVDA_numerical.csv')"
   ]
  },
  {
   "cell_type": "markdown",
   "id": "af7797cc-ddb1-4bf6-bdc7-b513a9257459",
   "metadata": {},
   "source": [
    "# Stock Ticker: QQQ"
   ]
  },
  {
   "cell_type": "code",
   "execution_count": 45,
   "id": "34f32665-47e6-4bd8-bef6-4797fddd60c5",
   "metadata": {},
   "outputs": [
    {
     "data": {
      "text/html": [
       "<div>\n",
       "<style scoped>\n",
       "    .dataframe tbody tr th:only-of-type {\n",
       "        vertical-align: middle;\n",
       "    }\n",
       "\n",
       "    .dataframe tbody tr th {\n",
       "        vertical-align: top;\n",
       "    }\n",
       "\n",
       "    .dataframe thead th {\n",
       "        text-align: right;\n",
       "    }\n",
       "</style>\n",
       "<table border=\"1\" class=\"dataframe\">\n",
       "  <thead>\n",
       "    <tr style=\"text-align: right;\">\n",
       "      <th></th>\n",
       "      <th>title</th>\n",
       "      <th>stock</th>\n",
       "      <th>Date</th>\n",
       "    </tr>\n",
       "  </thead>\n",
       "  <tbody>\n",
       "    <tr>\n",
       "      <th>1042283</th>\n",
       "      <td>Afternoon Market Stats in 5 Minutes</td>\n",
       "      <td>QQQ</td>\n",
       "      <td>2020-06-10</td>\n",
       "    </tr>\n",
       "    <tr>\n",
       "      <th>1042284</th>\n",
       "      <td>Morning Market Stats in 5 Minutes</td>\n",
       "      <td>QQQ</td>\n",
       "      <td>2020-06-10</td>\n",
       "    </tr>\n",
       "    <tr>\n",
       "      <th>1042285</th>\n",
       "      <td>Afternoon Market Stats in 5 Minutes</td>\n",
       "      <td>QQQ</td>\n",
       "      <td>2020-06-09</td>\n",
       "    </tr>\n",
       "    <tr>\n",
       "      <th>1042286</th>\n",
       "      <td>Cramer: NASDAQ Rebound Makes Sense As It Bette...</td>\n",
       "      <td>QQQ</td>\n",
       "      <td>2020-06-09</td>\n",
       "    </tr>\n",
       "    <tr>\n",
       "      <th>1042287</th>\n",
       "      <td>Morning Market Stats in 5 Minutes</td>\n",
       "      <td>QQQ</td>\n",
       "      <td>2020-06-09</td>\n",
       "    </tr>\n",
       "  </tbody>\n",
       "</table>\n",
       "</div>"
      ],
      "text/plain": [
       "                                                     title stock        Date\n",
       "1042283                Afternoon Market Stats in 5 Minutes   QQQ  2020-06-10\n",
       "1042284                  Morning Market Stats in 5 Minutes   QQQ  2020-06-10\n",
       "1042285                Afternoon Market Stats in 5 Minutes   QQQ  2020-06-09\n",
       "1042286  Cramer: NASDAQ Rebound Makes Sense As It Bette...   QQQ  2020-06-09\n",
       "1042287                  Morning Market Stats in 5 Minutes   QQQ  2020-06-09"
      ]
     },
     "execution_count": 45,
     "metadata": {},
     "output_type": "execute_result"
    }
   ],
   "source": [
    "# Filter both dataframes for the stock 'MS'\n",
    "df5_filtered = df1[df1['stock'] == 'QQQ']\n",
    "\n",
    "df5_filtered.head()"
   ]
  },
  {
   "cell_type": "code",
   "execution_count": 46,
   "id": "9af63ff8-33e5-446c-8155-cbfe22c9478f",
   "metadata": {},
   "outputs": [],
   "source": [
    "df5_filtered.to_csv('QQQ_text.csv')"
   ]
  },
  {
   "cell_type": "code",
   "execution_count": 47,
   "id": "7f086511-5d83-4a8d-836d-1fb26e2c25ae",
   "metadata": {},
   "outputs": [
    {
     "name": "stderr",
     "output_type": "stream",
     "text": [
      "[*********************100%%**********************]  1 of 1 completed"
     ]
    },
    {
     "name": "stdout",
     "output_type": "stream",
     "text": [
      "              Open   Close    High       Volume\n",
      "Date                                           \n",
      "2020-06-09  240.66  243.30  244.17   35046300.0\n",
      "2020-06-08  239.53  241.55  241.67   32937300.0\n",
      "2020-06-05  236.22  239.69  240.30   47365600.0\n",
      "2020-06-04  236.33  235.02  237.78   38716100.0\n",
      "2020-06-03  236.25  236.69  237.47   37228700.0\n",
      "...            ...     ...     ...          ...\n",
      "2011-03-22   55.58   55.40   55.61   36162100.0\n",
      "2011-03-21   55.27   55.50   55.77   57423000.0\n",
      "2011-03-18   55.22   54.45   55.22   94887200.0\n",
      "2011-03-17   55.00   54.65   55.24   94434500.0\n",
      "2011-03-16   55.02   54.15   55.34  176507700.0\n",
      "\n",
      "[2324 rows x 4 columns]\n"
     ]
    },
    {
     "name": "stderr",
     "output_type": "stream",
     "text": [
      "\n"
     ]
    }
   ],
   "source": [
    "# Define the ticker symbol for the S&P 500 index\n",
    "ticker_symbol = 'QQQ'\n",
    "\n",
    "# Specify the start and end dates in 'YYYY-MM-DD' format\n",
    "start_date = '2011-03-16'\n",
    "end_date = '2020-06-10'\n",
    "\n",
    "# Download the historical data for the specified date range\n",
    "data = yf.download(ticker_symbol, start=start_date, end=end_date)\n",
    "\n",
    "# Select only the 'Open', 'Close', and 'High' columns\n",
    "data = data[['Open', 'Close', 'High', 'Volume']]\n",
    "\n",
    "# Truncate the numbers to have only two decimal points without rounding off\n",
    "data = np.trunc(data * 100) / 100\n",
    "\n",
    "# Sort the data so that it starts from the last date\n",
    "data = data.sort_index(ascending=False)\n",
    "\n",
    "# Display the data\n",
    "print(data)\n",
    "\n",
    "# Optionally, save the data to a CSV file starting from the last date\n",
    "data.to_csv('QQQ_numerical.csv')"
   ]
  },
  {
   "cell_type": "code",
   "execution_count": null,
   "id": "75564b08-c77b-4f6d-8f12-1c0dd226fbb6",
   "metadata": {},
   "outputs": [],
   "source": []
  }
 ],
 "metadata": {
  "kernelspec": {
   "display_name": "Python 3 (ipykernel)",
   "language": "python",
   "name": "python3"
  },
  "language_info": {
   "codemirror_mode": {
    "name": "ipython",
    "version": 3
   },
   "file_extension": ".py",
   "mimetype": "text/x-python",
   "name": "python",
   "nbconvert_exporter": "python",
   "pygments_lexer": "ipython3",
   "version": "3.9.19"
  }
 },
 "nbformat": 4,
 "nbformat_minor": 5
}
