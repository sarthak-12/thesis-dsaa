{
 "cells": [
  {
   "cell_type": "markdown",
   "id": "0d1c98dd-eaad-49fb-9982-f8c048d6a7e1",
   "metadata": {},
   "source": [
    "# LSTM-BERT model"
   ]
  },
  {
   "cell_type": "markdown",
   "id": "0c378265-7fe2-400b-9de4-825981bbdfde",
   "metadata": {},
   "source": [
    "# Relevant Imports"
   ]
  },
  {
   "cell_type": "code",
   "execution_count": 1,
   "id": "d09b7e5b-c9e6-4c6e-9223-f75fbd3c0c93",
   "metadata": {},
   "outputs": [],
   "source": [
    "import pandas as pd\n",
    "import numpy as np\n",
    "import torch\n",
    "from sklearn.preprocessing import MinMaxScaler, StandardScaler\n",
    "from sklearn.model_selection import train_test_split\n",
    "import re\n",
    "import string\n",
    "from sentence_transformers import SentenceTransformer\n",
    "\n"
   ]
  },
  {
   "cell_type": "markdown",
   "id": "224a1cb1-6f5e-4a0c-b85b-bf5f8d6f2be1",
   "metadata": {},
   "source": [
    "# Check for MPS backend"
   ]
  },
  {
   "cell_type": "code",
   "execution_count": 2,
   "id": "e3f2728d-943c-469c-9225-75f04d44a13a",
   "metadata": {},
   "outputs": [
    {
     "name": "stdout",
     "output_type": "stream",
     "text": [
      "Using device: mps\n"
     ]
    }
   ],
   "source": [
    "device = torch.device(\"mps\") if torch.backends.mps.is_available() else torch.device(\"cpu\")\n",
    "print(f\"Using device: {device}\")\n"
   ]
  },
  {
   "cell_type": "markdown",
   "id": "2d68b0d1-e805-43db-8a93-1bea49e2d750",
   "metadata": {},
   "source": [
    "# Preprocessing"
   ]
  },
  {
   "cell_type": "code",
   "execution_count": 3,
   "id": "445d97a8-db2f-45d0-9f0e-ece2005833cb",
   "metadata": {},
   "outputs": [],
   "source": [
    "filepath_num = '../../code_final/GARCH/GARCH_output.csv'\n",
    "filepath_sent = '../../dataset_final/FinSen_S&P500/FinSen_text_annotated.csv'\n",
    "\n",
    "data_num = pd.read_csv(filepath_num)\n",
    "data_sent = pd.read_csv(filepath_sent)"
   ]
  },
  {
   "cell_type": "code",
   "execution_count": 16,
   "id": "95f33c3d-95b5-4267-a485-896889c29ec2",
   "metadata": {},
   "outputs": [],
   "source": [
    "def generate_textual_embeddings(texts, tokenizer, model, device, batch_size=16):\n",
    "    \"\"\"\n",
    "    Generate textual embeddings using a BERT model.\n",
    "\n",
    "    Args:\n",
    "    - texts (list of str): List of text inputs.\n",
    "    - tokenizer: Pretrained tokenizer for the BERT model.\n",
    "    - model: Pretrained BERT model.\n",
    "    - device: Device to run the model on ('cpu' or 'cuda').\n",
    "    - batch_size (int): Batch size for processing texts.\n",
    "\n",
    "    Returns:\n",
    "    - embeddings (torch.Tensor): Tensor of shape (len(texts), embedding_dim).\n",
    "    \"\"\"\n",
    "    model.eval()  # Set model to evaluation mode\n",
    "    embeddings = []\n",
    "\n",
    "    with torch.no_grad():\n",
    "        for i in range(0, len(texts), batch_size):\n",
    "            batch_texts = texts[i:i + batch_size]\n",
    "            encoded = tokenizer(batch_texts, padding=True, truncation=True, return_tensors='pt')\n",
    "            input_ids = encoded['input_ids'].to(device)\n",
    "            attention_mask = encoded['attention_mask'].to(device)\n",
    "\n",
    "            # Forward pass through BERT\n",
    "            outputs = model(input_ids, attention_mask=attention_mask)\n",
    "            # Use mean pooling of token embeddings to get sentence embeddings\n",
    "            batch_embeddings = outputs.last_hidden_state.mean(dim=1)\n",
    "            embeddings.append(batch_embeddings.cpu())\n",
    "\n",
    "    return torch.cat(embeddings, dim=0)\n"
   ]
  },
  {
   "cell_type": "code",
   "execution_count": 17,
   "id": "ba036913-8b9b-47e3-a8cd-6f88ceec9363",
   "metadata": {},
   "outputs": [
    {
     "name": "stdout",
     "output_type": "stream",
     "text": [
      "Cleaned Text Embeddings Shape: torch.Size([2800, 768])\n"
     ]
    }
   ],
   "source": [
    "# Convert the 'cleaned_text' column to a list of strings\n",
    "texts = df_text['cleaned_text'].tolist()\n",
    "\n",
    "# Generate embeddings for 'cleaned_text'\n",
    "text_embeddings = generate_textual_embeddings(texts, tokenizer, bert_model, device)\n",
    "\n",
    "# Verify the shape of the embeddings\n",
    "print(f\"Cleaned Text Embeddings Shape: {text_embeddings.shape}\")\n"
   ]
  },
  {
   "cell_type": "code",
   "execution_count": 18,
   "id": "69c7a310-4ca3-41ad-8f96-f17618fdfea6",
   "metadata": {},
   "outputs": [],
   "source": [
    "# Save embeddings to disk\n",
    "torch.save(text_embeddings, 'textual_embeddings.pt')\n"
   ]
  },
  {
   "cell_type": "code",
   "execution_count": null,
   "id": "bbf75f46-3434-4b0f-a475-6f1bfdfefebb",
   "metadata": {},
   "outputs": [],
   "source": []
  },
  {
   "cell_type": "code",
   "execution_count": null,
   "id": "1e4de4e9-2659-430a-a9f4-410a9bd61d7f",
   "metadata": {},
   "outputs": [],
   "source": []
  }
 ],
 "metadata": {
  "kernelspec": {
   "display_name": "Python 3 (ipykernel)",
   "language": "python",
   "name": "python3"
  },
  "language_info": {
   "codemirror_mode": {
    "name": "ipython",
    "version": 3
   },
   "file_extension": ".py",
   "mimetype": "text/x-python",
   "name": "python",
   "nbconvert_exporter": "python",
   "pygments_lexer": "ipython3",
   "version": "3.9.19"
  }
 },
 "nbformat": 4,
 "nbformat_minor": 5
}
