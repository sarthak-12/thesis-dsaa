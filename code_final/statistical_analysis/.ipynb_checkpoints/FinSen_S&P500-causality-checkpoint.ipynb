{
 "cells": [
  {
   "cell_type": "markdown",
   "id": "84c30389-0848-4740-bf30-6e2c308874bd",
   "metadata": {},
   "source": [
    "# Statistical Analysis"
   ]
  },
  {
   "cell_type": "markdown",
   "id": "959c7f1d-f3d8-4fe9-9d9f-32b89ced8a07",
   "metadata": {},
   "source": [
    "## Relevant Imports"
   ]
  },
  {
   "cell_type": "code",
   "execution_count": 89,
   "id": "8bae50b1-d7ae-4bba-86a7-fa46f78dd121",
   "metadata": {},
   "outputs": [],
   "source": [
    "import pandas as pd\n",
    "import numpy as np\n",
    "# Plot histograms for sentiment_score and Close price\n",
    "import matplotlib.pyplot as plt\n",
    "import statsmodels.tsa.stattools as ts\n",
    "from statsmodels.tsa.stattools import grangercausalitytests\n",
    "from collections import Counter\n",
    "import re\n",
    "from scipy.stats import pearsonr\n",
    "from collections import Counter\n",
    "import nltk\n",
    "from nltk.corpus import stopwords\n",
    "import gensim\n",
    "from gensim import corpora"
   ]
  },
  {
   "cell_type": "markdown",
   "id": "e8615276-fbe5-424a-8e5f-225c4f1f6fe5",
   "metadata": {},
   "source": [
    "## Preprocessing"
   ]
  },
  {
   "cell_type": "code",
   "execution_count": 90,
   "id": "5625fa49-8476-4320-914f-635e0e726135",
   "metadata": {},
   "outputs": [],
   "source": [
    "filepath_numerical = '../../dataset_final/FinSen_S&P500/S&P500_numerical.csv'\n",
    "filepath_sentiment = '../../dataset_final/FinSen_S&P500/FinSen_text_annotated.csv'"
   ]
  },
  {
   "cell_type": "code",
   "execution_count": 91,
   "id": "8e410f89-eade-4bbb-b645-a19e3f09412f",
   "metadata": {},
   "outputs": [
    {
     "data": {
      "text/html": [
       "<div>\n",
       "<style scoped>\n",
       "    .dataframe tbody tr th:only-of-type {\n",
       "        vertical-align: middle;\n",
       "    }\n",
       "\n",
       "    .dataframe tbody tr th {\n",
       "        vertical-align: top;\n",
       "    }\n",
       "\n",
       "    .dataframe thead th {\n",
       "        text-align: right;\n",
       "    }\n",
       "</style>\n",
       "<table border=\"1\" class=\"dataframe\">\n",
       "  <thead>\n",
       "    <tr style=\"text-align: right;\">\n",
       "      <th></th>\n",
       "      <th>Date</th>\n",
       "      <th>Open</th>\n",
       "      <th>Close</th>\n",
       "      <th>High</th>\n",
       "      <th>Volume</th>\n",
       "    </tr>\n",
       "  </thead>\n",
       "  <tbody>\n",
       "    <tr>\n",
       "      <th>0</th>\n",
       "      <td>2023-07-14</td>\n",
       "      <td>4514.60</td>\n",
       "      <td>4505.41</td>\n",
       "      <td>4527.75</td>\n",
       "      <td>3.647450e+09</td>\n",
       "    </tr>\n",
       "    <tr>\n",
       "      <th>1</th>\n",
       "      <td>2023-07-13</td>\n",
       "      <td>4491.50</td>\n",
       "      <td>4510.04</td>\n",
       "      <td>4517.37</td>\n",
       "      <td>3.839530e+09</td>\n",
       "    </tr>\n",
       "    <tr>\n",
       "      <th>2</th>\n",
       "      <td>2023-07-12</td>\n",
       "      <td>4467.68</td>\n",
       "      <td>4472.16</td>\n",
       "      <td>4488.33</td>\n",
       "      <td>3.920290e+09</td>\n",
       "    </tr>\n",
       "    <tr>\n",
       "      <th>3</th>\n",
       "      <td>2023-07-11</td>\n",
       "      <td>4415.54</td>\n",
       "      <td>4439.25</td>\n",
       "      <td>4443.64</td>\n",
       "      <td>3.624220e+09</td>\n",
       "    </tr>\n",
       "    <tr>\n",
       "      <th>4</th>\n",
       "      <td>2023-07-10</td>\n",
       "      <td>4394.22</td>\n",
       "      <td>4409.52</td>\n",
       "      <td>4412.60</td>\n",
       "      <td>3.429600e+09</td>\n",
       "    </tr>\n",
       "  </tbody>\n",
       "</table>\n",
       "</div>"
      ],
      "text/plain": [
       "         Date     Open    Close     High        Volume\n",
       "0  2023-07-14  4514.60  4505.41  4527.75  3.647450e+09\n",
       "1  2023-07-13  4491.50  4510.04  4517.37  3.839530e+09\n",
       "2  2023-07-12  4467.68  4472.16  4488.33  3.920290e+09\n",
       "3  2023-07-11  4415.54  4439.25  4443.64  3.624220e+09\n",
       "4  2023-07-10  4394.22  4409.52  4412.60  3.429600e+09"
      ]
     },
     "execution_count": 91,
     "metadata": {},
     "output_type": "execute_result"
    }
   ],
   "source": [
    "data_num = pd.read_csv(filepath_numerical)\n",
    "data_num.head()"
   ]
  },
  {
   "cell_type": "code",
   "execution_count": 92,
   "id": "9f6904cf-51fc-4344-bbf8-1fab2961e0bc",
   "metadata": {},
   "outputs": [
    {
     "data": {
      "text/html": [
       "<div>\n",
       "<style scoped>\n",
       "    .dataframe tbody tr th:only-of-type {\n",
       "        vertical-align: middle;\n",
       "    }\n",
       "\n",
       "    .dataframe tbody tr th {\n",
       "        vertical-align: top;\n",
       "    }\n",
       "\n",
       "    .dataframe thead th {\n",
       "        text-align: right;\n",
       "    }\n",
       "</style>\n",
       "<table border=\"1\" class=\"dataframe\">\n",
       "  <thead>\n",
       "    <tr style=\"text-align: right;\">\n",
       "      <th></th>\n",
       "      <th>Unnamed: 0</th>\n",
       "      <th>Title</th>\n",
       "      <th>Tag</th>\n",
       "      <th>Time</th>\n",
       "      <th>Content</th>\n",
       "      <th>sentiment_score</th>\n",
       "    </tr>\n",
       "  </thead>\n",
       "  <tbody>\n",
       "    <tr>\n",
       "      <th>0</th>\n",
       "      <td>0</td>\n",
       "      <td>TSX Slightly Down, Books Weekly Gains</td>\n",
       "      <td>Stock Market</td>\n",
       "      <td>16/07/2023</td>\n",
       "      <td>TSX Slightly Down, Books Weekly GainsUnited St...</td>\n",
       "      <td>0.13</td>\n",
       "    </tr>\n",
       "    <tr>\n",
       "      <th>1</th>\n",
       "      <td>1</td>\n",
       "      <td>UnitedHealth Hits 4-week High</td>\n",
       "      <td>stocks</td>\n",
       "      <td>15/07/2023</td>\n",
       "      <td>UnitedHealth Hits 4-week HighUnited States sto...</td>\n",
       "      <td>0.62</td>\n",
       "    </tr>\n",
       "    <tr>\n",
       "      <th>2</th>\n",
       "      <td>2</td>\n",
       "      <td>Cisco Systems Hits 4-week Low</td>\n",
       "      <td>stocks</td>\n",
       "      <td>15/07/2023</td>\n",
       "      <td>Cisco Systems Hits 4-week LowUnited States sto...</td>\n",
       "      <td>-0.43</td>\n",
       "    </tr>\n",
       "    <tr>\n",
       "      <th>3</th>\n",
       "      <td>3</td>\n",
       "      <td>AT&amp;T Hits All-time Low</td>\n",
       "      <td>stocks</td>\n",
       "      <td>15/07/2023</td>\n",
       "      <td>AT&amp;T Hits All-time LowUnited States stocksAT&amp;T...</td>\n",
       "      <td>-0.28</td>\n",
       "    </tr>\n",
       "    <tr>\n",
       "      <th>4</th>\n",
       "      <td>4</td>\n",
       "      <td>Microsoft Hits 4-week High</td>\n",
       "      <td>stocks</td>\n",
       "      <td>15/07/2023</td>\n",
       "      <td>Microsoft Hits 4-week HighUnited States stocks...</td>\n",
       "      <td>0.60</td>\n",
       "    </tr>\n",
       "  </tbody>\n",
       "</table>\n",
       "</div>"
      ],
      "text/plain": [
       "   Unnamed: 0                                  Title           Tag  \\\n",
       "0           0  TSX Slightly Down, Books Weekly Gains  Stock Market   \n",
       "1           1          UnitedHealth Hits 4-week High        stocks   \n",
       "2           2          Cisco Systems Hits 4-week Low        stocks   \n",
       "3           3                 AT&T Hits All-time Low        stocks   \n",
       "4           4             Microsoft Hits 4-week High        stocks   \n",
       "\n",
       "         Time                                            Content  \\\n",
       "0  16/07/2023  TSX Slightly Down, Books Weekly GainsUnited St...   \n",
       "1  15/07/2023  UnitedHealth Hits 4-week HighUnited States sto...   \n",
       "2  15/07/2023  Cisco Systems Hits 4-week LowUnited States sto...   \n",
       "3  15/07/2023  AT&T Hits All-time LowUnited States stocksAT&T...   \n",
       "4  15/07/2023  Microsoft Hits 4-week HighUnited States stocks...   \n",
       "\n",
       "   sentiment_score  \n",
       "0             0.13  \n",
       "1             0.62  \n",
       "2            -0.43  \n",
       "3            -0.28  \n",
       "4             0.60  "
      ]
     },
     "execution_count": 92,
     "metadata": {},
     "output_type": "execute_result"
    }
   ],
   "source": [
    "data_sent = pd.read_csv(filepath_sentiment)\n",
    "data_sent.head()"
   ]
  },
  {
   "cell_type": "code",
   "execution_count": 93,
   "id": "637c2d60-45ec-432b-97ce-00eda00d8167",
   "metadata": {},
   "outputs": [
    {
     "data": {
      "text/html": [
       "<div>\n",
       "<style scoped>\n",
       "    .dataframe tbody tr th:only-of-type {\n",
       "        vertical-align: middle;\n",
       "    }\n",
       "\n",
       "    .dataframe tbody tr th {\n",
       "        vertical-align: top;\n",
       "    }\n",
       "\n",
       "    .dataframe thead th {\n",
       "        text-align: right;\n",
       "    }\n",
       "</style>\n",
       "<table border=\"1\" class=\"dataframe\">\n",
       "  <thead>\n",
       "    <tr style=\"text-align: right;\">\n",
       "      <th></th>\n",
       "      <th>Title</th>\n",
       "      <th>Tag</th>\n",
       "      <th>Date</th>\n",
       "      <th>Content</th>\n",
       "      <th>sentiment_score</th>\n",
       "    </tr>\n",
       "  </thead>\n",
       "  <tbody>\n",
       "    <tr>\n",
       "      <th>0</th>\n",
       "      <td>TSX Slightly Down, Books Weekly Gains</td>\n",
       "      <td>Stock Market</td>\n",
       "      <td>16/07/2023</td>\n",
       "      <td>TSX Slightly Down, Books Weekly GainsUnited St...</td>\n",
       "      <td>0.13</td>\n",
       "    </tr>\n",
       "    <tr>\n",
       "      <th>1</th>\n",
       "      <td>UnitedHealth Hits 4-week High</td>\n",
       "      <td>stocks</td>\n",
       "      <td>15/07/2023</td>\n",
       "      <td>UnitedHealth Hits 4-week HighUnited States sto...</td>\n",
       "      <td>0.62</td>\n",
       "    </tr>\n",
       "    <tr>\n",
       "      <th>2</th>\n",
       "      <td>Cisco Systems Hits 4-week Low</td>\n",
       "      <td>stocks</td>\n",
       "      <td>15/07/2023</td>\n",
       "      <td>Cisco Systems Hits 4-week LowUnited States sto...</td>\n",
       "      <td>-0.43</td>\n",
       "    </tr>\n",
       "    <tr>\n",
       "      <th>3</th>\n",
       "      <td>AT&amp;T Hits All-time Low</td>\n",
       "      <td>stocks</td>\n",
       "      <td>15/07/2023</td>\n",
       "      <td>AT&amp;T Hits All-time LowUnited States stocksAT&amp;T...</td>\n",
       "      <td>-0.28</td>\n",
       "    </tr>\n",
       "    <tr>\n",
       "      <th>4</th>\n",
       "      <td>Microsoft Hits 4-week High</td>\n",
       "      <td>stocks</td>\n",
       "      <td>15/07/2023</td>\n",
       "      <td>Microsoft Hits 4-week HighUnited States stocks...</td>\n",
       "      <td>0.60</td>\n",
       "    </tr>\n",
       "  </tbody>\n",
       "</table>\n",
       "</div>"
      ],
      "text/plain": [
       "                                   Title           Tag        Date  \\\n",
       "0  TSX Slightly Down, Books Weekly Gains  Stock Market  16/07/2023   \n",
       "1          UnitedHealth Hits 4-week High        stocks  15/07/2023   \n",
       "2          Cisco Systems Hits 4-week Low        stocks  15/07/2023   \n",
       "3                 AT&T Hits All-time Low        stocks  15/07/2023   \n",
       "4             Microsoft Hits 4-week High        stocks  15/07/2023   \n",
       "\n",
       "                                             Content  sentiment_score  \n",
       "0  TSX Slightly Down, Books Weekly GainsUnited St...             0.13  \n",
       "1  UnitedHealth Hits 4-week HighUnited States sto...             0.62  \n",
       "2  Cisco Systems Hits 4-week LowUnited States sto...            -0.43  \n",
       "3  AT&T Hits All-time LowUnited States stocksAT&T...            -0.28  \n",
       "4  Microsoft Hits 4-week HighUnited States stocks...             0.60  "
      ]
     },
     "execution_count": 93,
     "metadata": {},
     "output_type": "execute_result"
    }
   ],
   "source": [
    "if 'Unnamed: 0' in data_sent.columns:\n",
    "    data_sent = data_sent.drop(columns=['Unnamed: 0'])\n",
    "data_sent.rename(columns={'Time': 'Date'}, inplace=True)\n",
    "data_sent.head()"
   ]
  },
  {
   "cell_type": "code",
   "execution_count": 94,
   "id": "c063365e-1de3-42e6-a8df-37d399598031",
   "metadata": {},
   "outputs": [
    {
     "data": {
      "text/plain": [
       "<bound method DataFrame.value_counts of                                                    Title               Tag  \\\n",
       "0                  TSX Slightly Down, Books Weekly Gains      Stock Market   \n",
       "1                          UnitedHealth Hits 4-week High            stocks   \n",
       "2                          Cisco Systems Hits 4-week Low            stocks   \n",
       "3                                 AT&T Hits All-time Low            stocks   \n",
       "4                             Microsoft Hits 4-week High            stocks   \n",
       "...                                                  ...               ...   \n",
       "15529  United States GDP Rises 0.6 percent in the fir...   GDP Growth Rate   \n",
       "15530  Consumer Price Index 2.6 percent higher than i...    Inflation Rate   \n",
       "15531  U.S. Federal Reserve Kept Rates Unchanged at 5...     Interest Rate   \n",
       "15532              Trade Deficit Increases in March 2007  Balance of Trade   \n",
       "15533  Blackstone boosts IPO after Beijing takes $3bn...              News   \n",
       "\n",
       "             Date                                            Content  \\\n",
       "0      16/07/2023  TSX Slightly Down, Books Weekly GainsUnited St...   \n",
       "1      15/07/2023  UnitedHealth Hits 4-week HighUnited States sto...   \n",
       "2      15/07/2023  Cisco Systems Hits 4-week LowUnited States sto...   \n",
       "3      15/07/2023  AT&T Hits All-time LowUnited States stocksAT&T...   \n",
       "4      15/07/2023  Microsoft Hits 4-week HighUnited States stocks...   \n",
       "...           ...                                                ...   \n",
       "15529   6/06/2007  United States GDP Rises 0.6 percent in the fir...   \n",
       "15530   6/06/2007  Consumer Price Index 2.6 percent higher than i...   \n",
       "15531   6/06/2007  U.S. Federal Reserve Kept Rates Unchanged at 5...   \n",
       "15532   4/06/2007  Trade Deficit Increases in March 2007United St...   \n",
       "15533   4/06/2007  Blackstone boosts IPO after Beijing takes $3bn...   \n",
       "\n",
       "       sentiment_score  \n",
       "0                 0.13  \n",
       "1                 0.62  \n",
       "2                -0.43  \n",
       "3                -0.28  \n",
       "4                 0.60  \n",
       "...                ...  \n",
       "15529             0.02  \n",
       "15530             0.00  \n",
       "15531            -0.01  \n",
       "15532             0.00  \n",
       "15533             0.03  \n",
       "\n",
       "[15534 rows x 5 columns]>"
      ]
     },
     "execution_count": 94,
     "metadata": {},
     "output_type": "execute_result"
    }
   ],
   "source": [
    "data_sent.value_counts"
   ]
  },
  {
   "cell_type": "code",
   "execution_count": 95,
   "id": "4783670e-d886-47ef-aed7-424dc5eb8244",
   "metadata": {},
   "outputs": [
    {
     "data": {
      "text/plain": [
       "<bound method DataFrame.value_counts of                                                    Title               Tag  \\\n",
       "0                  TSX Slightly Down, Books Weekly Gains      Stock Market   \n",
       "1                          UnitedHealth Hits 4-week High            stocks   \n",
       "2                          Cisco Systems Hits 4-week Low            stocks   \n",
       "3                                 AT&T Hits All-time Low            stocks   \n",
       "4                             Microsoft Hits 4-week High            stocks   \n",
       "...                                                  ...               ...   \n",
       "15529  United States GDP Rises 0.6 percent in the fir...   GDP Growth Rate   \n",
       "15530  Consumer Price Index 2.6 percent higher than i...    Inflation Rate   \n",
       "15531  U.S. Federal Reserve Kept Rates Unchanged at 5...     Interest Rate   \n",
       "15532              Trade Deficit Increases in March 2007  Balance of Trade   \n",
       "15533  Blackstone boosts IPO after Beijing takes $3bn...              News   \n",
       "\n",
       "             Date                                            Content  \\\n",
       "0      16/07/2023  TSX Slightly Down, Books Weekly GainsUnited St...   \n",
       "1      15/07/2023  UnitedHealth Hits 4-week HighUnited States sto...   \n",
       "2      15/07/2023  Cisco Systems Hits 4-week LowUnited States sto...   \n",
       "3      15/07/2023  AT&T Hits All-time LowUnited States stocksAT&T...   \n",
       "4      15/07/2023  Microsoft Hits 4-week HighUnited States stocks...   \n",
       "...           ...                                                ...   \n",
       "15529   6/06/2007  United States GDP Rises 0.6 percent in the fir...   \n",
       "15530   6/06/2007  Consumer Price Index 2.6 percent higher than i...   \n",
       "15531   6/06/2007  U.S. Federal Reserve Kept Rates Unchanged at 5...   \n",
       "15532   4/06/2007  Trade Deficit Increases in March 2007United St...   \n",
       "15533   4/06/2007  Blackstone boosts IPO after Beijing takes $3bn...   \n",
       "\n",
       "       sentiment_score  \n",
       "0                 0.13  \n",
       "1                 0.62  \n",
       "2                -0.43  \n",
       "3                -0.28  \n",
       "4                 0.60  \n",
       "...                ...  \n",
       "15529             0.02  \n",
       "15530             0.00  \n",
       "15531            -0.01  \n",
       "15532             0.00  \n",
       "15533             0.03  \n",
       "\n",
       "[15483 rows x 5 columns]>"
      ]
     },
     "execution_count": 95,
     "metadata": {},
     "output_type": "execute_result"
    }
   ],
   "source": [
    "data_sent = data_sent.drop_duplicates(subset=['Title', 'Content'])\n",
    "data_sent.value_counts"
   ]
  },
  {
   "cell_type": "markdown",
   "id": "0d4e0ff3-b78c-4aa8-96d3-bc52d0808e62",
   "metadata": {},
   "source": [
    "## Merge Dataframes"
   ]
  },
  {
   "cell_type": "code",
   "execution_count": 96,
   "id": "d70d11dc-3153-4b0a-b75a-e3e6efa0d9ff",
   "metadata": {},
   "outputs": [
    {
     "name": "stdout",
     "output_type": "stream",
     "text": [
      "                                                   Title               Tag  \\\n",
      "0                  TSX Slightly Down, Books Weekly Gains      Stock Market   \n",
      "1                          UnitedHealth Hits 4-week High            stocks   \n",
      "2                          Cisco Systems Hits 4-week Low            stocks   \n",
      "3                                 AT&T Hits All-time Low            stocks   \n",
      "4                             Microsoft Hits 4-week High            stocks   \n",
      "...                                                  ...               ...   \n",
      "15478  United States GDP Rises 0.6 percent in the fir...   GDP Growth Rate   \n",
      "15479  Consumer Price Index 2.6 percent higher than i...    Inflation Rate   \n",
      "15480  U.S. Federal Reserve Kept Rates Unchanged at 5...     Interest Rate   \n",
      "15481              Trade Deficit Increases in March 2007  Balance of Trade   \n",
      "15482  Blackstone boosts IPO after Beijing takes $3bn...              News   \n",
      "\n",
      "             Date                                            Content  \\\n",
      "0      16/07/2023  TSX Slightly Down, Books Weekly GainsUnited St...   \n",
      "1      15/07/2023  UnitedHealth Hits 4-week HighUnited States sto...   \n",
      "2      15/07/2023  Cisco Systems Hits 4-week LowUnited States sto...   \n",
      "3      15/07/2023  AT&T Hits All-time LowUnited States stocksAT&T...   \n",
      "4      15/07/2023  Microsoft Hits 4-week HighUnited States stocks...   \n",
      "...           ...                                                ...   \n",
      "15478   6/06/2007  United States GDP Rises 0.6 percent in the fir...   \n",
      "15479   6/06/2007  Consumer Price Index 2.6 percent higher than i...   \n",
      "15480   6/06/2007  U.S. Federal Reserve Kept Rates Unchanged at 5...   \n",
      "15481   4/06/2007  Trade Deficit Increases in March 2007United St...   \n",
      "15482   4/06/2007  Blackstone boosts IPO after Beijing takes $3bn...   \n",
      "\n",
      "       sentiment_score  \n",
      "0                 0.13  \n",
      "1                -0.01  \n",
      "2                -0.01  \n",
      "3                -0.01  \n",
      "4                -0.01  \n",
      "...                ...  \n",
      "15478             0.01  \n",
      "15479             0.01  \n",
      "15480             0.01  \n",
      "15481             0.03  \n",
      "15482             0.03  \n",
      "\n",
      "[15483 rows x 5 columns]\n"
     ]
    }
   ],
   "source": [
    "# Aggregate sentiment scores by summing them up for each date\n",
    "data_sent_aggregated = (\n",
    "    data_sent.groupby('Date', as_index=False)\n",
    "    .agg({'sentiment_score': 'sum'})\n",
    ")\n",
    "\n",
    "# Round the sentiment_score to two decimal places\n",
    "data_sent_aggregated['sentiment_score'] = data_sent_aggregated['sentiment_score'].round(2)\n",
    "\n",
    "# Merge aggregated scores back into the original DataFrame\n",
    "data_sent = data_sent.drop(columns=['sentiment_score'])  # Drop original sentiment_score column\n",
    "data_sent = data_sent.merge(data_sent_aggregated, on='Date', how='left')  # Add aggregated column\n",
    "\n",
    "print(data_sent)\n"
   ]
  },
  {
   "cell_type": "code",
   "execution_count": 97,
   "id": "be913bba-6853-4a2a-b5a7-8bc5f28698bb",
   "metadata": {},
   "outputs": [
    {
     "name": "stderr",
     "output_type": "stream",
     "text": [
      "/var/folders/pd/35sqmnx90k31hxsfkmzt115m000cd0/T/ipykernel_6503/2012155046.py:3: UserWarning: Parsing dates in %d/%m/%Y format when dayfirst=False (the default) was specified. Pass `dayfirst=True` or specify a format to silence this warning.\n",
      "  data_sent['Date'] = pd.to_datetime(data_sent['Date'])\n"
     ]
    }
   ],
   "source": [
    "# Ensure Date columns are in datetime format\n",
    "data_num['Date'] = pd.to_datetime(data_num['Date'])\n",
    "data_sent['Date'] = pd.to_datetime(data_sent['Date'])\n",
    "\n",
    "# Merge the dataframes on the 'Date' column\n",
    "data_merged = pd.merge(data_num, data_sent, on='Date', how='inner')\n",
    "# After this step, df_merged will have:\n",
    "# Date, Title, Content, Tag, sentiment_score, Open, High, Close, Volume, etc.\n"
   ]
  },
  {
   "cell_type": "code",
   "execution_count": 98,
   "id": "3b7db7c0-9eb9-449c-ab56-fb49c61b7570",
   "metadata": {},
   "outputs": [
    {
     "data": {
      "text/html": [
       "<div>\n",
       "<style scoped>\n",
       "    .dataframe tbody tr th:only-of-type {\n",
       "        vertical-align: middle;\n",
       "    }\n",
       "\n",
       "    .dataframe tbody tr th {\n",
       "        vertical-align: top;\n",
       "    }\n",
       "\n",
       "    .dataframe thead th {\n",
       "        text-align: right;\n",
       "    }\n",
       "</style>\n",
       "<table border=\"1\" class=\"dataframe\">\n",
       "  <thead>\n",
       "    <tr style=\"text-align: right;\">\n",
       "      <th></th>\n",
       "      <th>Date</th>\n",
       "      <th>Open</th>\n",
       "      <th>Close</th>\n",
       "      <th>High</th>\n",
       "      <th>Volume</th>\n",
       "      <th>Title</th>\n",
       "      <th>Tag</th>\n",
       "      <th>Content</th>\n",
       "      <th>sentiment_score</th>\n",
       "    </tr>\n",
       "  </thead>\n",
       "  <tbody>\n",
       "    <tr>\n",
       "      <th>0</th>\n",
       "      <td>2023-07-14</td>\n",
       "      <td>4514.6</td>\n",
       "      <td>4505.41</td>\n",
       "      <td>4527.75</td>\n",
       "      <td>3.647450e+09</td>\n",
       "      <td>US Budget Deficit Widens More than Expected in...</td>\n",
       "      <td>Government Budget Value</td>\n",
       "      <td>US Budget Deficit Widens More than Expected in...</td>\n",
       "      <td>1.02</td>\n",
       "    </tr>\n",
       "    <tr>\n",
       "      <th>1</th>\n",
       "      <td>2023-07-14</td>\n",
       "      <td>4514.6</td>\n",
       "      <td>4505.41</td>\n",
       "      <td>4527.75</td>\n",
       "      <td>3.647450e+09</td>\n",
       "      <td>Visa Hits 24-week High</td>\n",
       "      <td>stocks</td>\n",
       "      <td>Visa Hits 24-week HighUnited States stocksVisa...</td>\n",
       "      <td>1.02</td>\n",
       "    </tr>\n",
       "    <tr>\n",
       "      <th>2</th>\n",
       "      <td>2023-07-14</td>\n",
       "      <td>4514.6</td>\n",
       "      <td>4505.41</td>\n",
       "      <td>4527.75</td>\n",
       "      <td>3.647450e+09</td>\n",
       "      <td>Amazon Hits 43-week High</td>\n",
       "      <td>stocks</td>\n",
       "      <td>Amazon Hits 43-week HighUnited States stocksAm...</td>\n",
       "      <td>1.02</td>\n",
       "    </tr>\n",
       "    <tr>\n",
       "      <th>3</th>\n",
       "      <td>2023-07-14</td>\n",
       "      <td>4514.6</td>\n",
       "      <td>4505.41</td>\n",
       "      <td>4527.75</td>\n",
       "      <td>3.647450e+09</td>\n",
       "      <td>10-Year Treasury Yield Falls for 4th Session</td>\n",
       "      <td>Government Bond 10Y</td>\n",
       "      <td>10-Year Treasury Yield Falls for 4th SessionUn...</td>\n",
       "      <td>1.02</td>\n",
       "    </tr>\n",
       "    <tr>\n",
       "      <th>4</th>\n",
       "      <td>2023-07-14</td>\n",
       "      <td>4514.6</td>\n",
       "      <td>4505.41</td>\n",
       "      <td>4527.75</td>\n",
       "      <td>3.647450e+09</td>\n",
       "      <td>DXY Approaches 100</td>\n",
       "      <td>Currency</td>\n",
       "      <td>DXY Approaches 100United States CurrencyThe do...</td>\n",
       "      <td>1.02</td>\n",
       "    </tr>\n",
       "  </tbody>\n",
       "</table>\n",
       "</div>"
      ],
      "text/plain": [
       "        Date    Open    Close     High        Volume  \\\n",
       "0 2023-07-14  4514.6  4505.41  4527.75  3.647450e+09   \n",
       "1 2023-07-14  4514.6  4505.41  4527.75  3.647450e+09   \n",
       "2 2023-07-14  4514.6  4505.41  4527.75  3.647450e+09   \n",
       "3 2023-07-14  4514.6  4505.41  4527.75  3.647450e+09   \n",
       "4 2023-07-14  4514.6  4505.41  4527.75  3.647450e+09   \n",
       "\n",
       "                                               Title                      Tag  \\\n",
       "0  US Budget Deficit Widens More than Expected in...  Government Budget Value   \n",
       "1                             Visa Hits 24-week High                   stocks   \n",
       "2                           Amazon Hits 43-week High                   stocks   \n",
       "3       10-Year Treasury Yield Falls for 4th Session      Government Bond 10Y   \n",
       "4                                 DXY Approaches 100                 Currency   \n",
       "\n",
       "                                             Content  sentiment_score  \n",
       "0  US Budget Deficit Widens More than Expected in...             1.02  \n",
       "1  Visa Hits 24-week HighUnited States stocksVisa...             1.02  \n",
       "2  Amazon Hits 43-week HighUnited States stocksAm...             1.02  \n",
       "3  10-Year Treasury Yield Falls for 4th SessionUn...             1.02  \n",
       "4  DXY Approaches 100United States CurrencyThe do...             1.02  "
      ]
     },
     "execution_count": 98,
     "metadata": {},
     "output_type": "execute_result"
    }
   ],
   "source": [
    "data_merged.head()"
   ]
  },
  {
   "cell_type": "code",
   "execution_count": 99,
   "id": "cbfefe41-b594-4ea3-8af3-e30ba84d1c9e",
   "metadata": {},
   "outputs": [
    {
     "data": {
      "text/html": [
       "<div>\n",
       "<style scoped>\n",
       "    .dataframe tbody tr th:only-of-type {\n",
       "        vertical-align: middle;\n",
       "    }\n",
       "\n",
       "    .dataframe tbody tr th {\n",
       "        vertical-align: top;\n",
       "    }\n",
       "\n",
       "    .dataframe thead th {\n",
       "        text-align: right;\n",
       "    }\n",
       "</style>\n",
       "<table border=\"1\" class=\"dataframe\">\n",
       "  <thead>\n",
       "    <tr style=\"text-align: right;\">\n",
       "      <th></th>\n",
       "      <th>Date</th>\n",
       "      <th>Open</th>\n",
       "      <th>Close</th>\n",
       "      <th>High</th>\n",
       "      <th>Volume</th>\n",
       "      <th>Title</th>\n",
       "      <th>Tag</th>\n",
       "      <th>Content</th>\n",
       "      <th>sentiment_score</th>\n",
       "    </tr>\n",
       "  </thead>\n",
       "  <tbody>\n",
       "    <tr>\n",
       "      <th>0</th>\n",
       "      <td>2007-06-04</td>\n",
       "      <td>1536.28</td>\n",
       "      <td>1539.18</td>\n",
       "      <td>1540.53</td>\n",
       "      <td>5.477860e+09</td>\n",
       "      <td>Trade Deficit Increases in March 2007, Blackst...</td>\n",
       "      <td>Balance of Trade, News</td>\n",
       "      <td>Trade Deficit Increases in March 2007United St...</td>\n",
       "      <td>0.03</td>\n",
       "    </tr>\n",
       "    <tr>\n",
       "      <th>1</th>\n",
       "      <td>2007-06-06</td>\n",
       "      <td>1530.56</td>\n",
       "      <td>1517.38</td>\n",
       "      <td>1530.56</td>\n",
       "      <td>1.482095e+10</td>\n",
       "      <td>Nonfarm payroll employment increased by 157,00...</td>\n",
       "      <td>Unemployment Rate, Balance of Trade, GDP Growt...</td>\n",
       "      <td>Nonfarm payroll employment increased by 157,00...</td>\n",
       "      <td>0.01</td>\n",
       "    </tr>\n",
       "    <tr>\n",
       "      <th>2</th>\n",
       "      <td>2007-06-21</td>\n",
       "      <td>1512.50</td>\n",
       "      <td>1522.18</td>\n",
       "      <td>1522.90</td>\n",
       "      <td>3.161110e+09</td>\n",
       "      <td>US Economy is expanding after Q1 slowdown</td>\n",
       "      <td>GDP Growth Rate</td>\n",
       "      <td>US Economy is expanding after Q1 slowdownUnite...</td>\n",
       "      <td>0.03</td>\n",
       "    </tr>\n",
       "    <tr>\n",
       "      <th>3</th>\n",
       "      <td>2007-06-26</td>\n",
       "      <td>1497.68</td>\n",
       "      <td>1492.89</td>\n",
       "      <td>1506.11</td>\n",
       "      <td>3.398530e+09</td>\n",
       "      <td>Consumer Confidence and Housing Weaken in US</td>\n",
       "      <td>GDP Growth Rate</td>\n",
       "      <td>Consumer Confidence and Housing Weaken in USUn...</td>\n",
       "      <td>-0.66</td>\n",
       "    </tr>\n",
       "    <tr>\n",
       "      <th>4</th>\n",
       "      <td>2007-06-28</td>\n",
       "      <td>1506.31</td>\n",
       "      <td>1505.70</td>\n",
       "      <td>1514.83</td>\n",
       "      <td>3.006710e+09</td>\n",
       "      <td>Fed keeps the federal funds rate at 5-1/4 percent</td>\n",
       "      <td>Interest Rate</td>\n",
       "      <td>Fed keeps the federal funds rate at 5-1/4 perc...</td>\n",
       "      <td>0.16</td>\n",
       "    </tr>\n",
       "    <tr>\n",
       "      <th>5</th>\n",
       "      <td>2007-07-05</td>\n",
       "      <td>1524.85</td>\n",
       "      <td>1525.40</td>\n",
       "      <td>1526.56</td>\n",
       "      <td>2.622950e+09</td>\n",
       "      <td>U.S. ISM Services Index Reached 14-Month High ...</td>\n",
       "      <td>News</td>\n",
       "      <td>U.S. ISM Services Index Reached 14-Month High ...</td>\n",
       "      <td>0.66</td>\n",
       "    </tr>\n",
       "    <tr>\n",
       "      <th>6</th>\n",
       "      <td>2007-07-06</td>\n",
       "      <td>1524.95</td>\n",
       "      <td>1530.43</td>\n",
       "      <td>1532.40</td>\n",
       "      <td>2.441520e+09</td>\n",
       "      <td>US June unemployment rate unchanged at 4.5%</td>\n",
       "      <td>Unemployment Rate</td>\n",
       "      <td>US June unemployment rate unchanged at 4.5%Uni...</td>\n",
       "      <td>-0.02</td>\n",
       "    </tr>\n",
       "    <tr>\n",
       "      <th>7</th>\n",
       "      <td>2007-07-10</td>\n",
       "      <td>1531.84</td>\n",
       "      <td>1510.11</td>\n",
       "      <td>1531.84</td>\n",
       "      <td>3.244280e+09</td>\n",
       "      <td>U.S. Growth, Easing Inflation to Follow Fed `S...</td>\n",
       "      <td>Inflation Rate</td>\n",
       "      <td>U.S. Growth, Easing Inflation to Follow Fed `S...</td>\n",
       "      <td>0.00</td>\n",
       "    </tr>\n",
       "    <tr>\n",
       "      <th>8</th>\n",
       "      <td>2007-07-12</td>\n",
       "      <td>1518.73</td>\n",
       "      <td>1547.69</td>\n",
       "      <td>1547.92</td>\n",
       "      <td>3.489600e+09</td>\n",
       "      <td>US trade deficit increases to $60.0 billion in...</td>\n",
       "      <td>Balance of Trade</td>\n",
       "      <td>US trade deficit increases to $60.0 billion in...</td>\n",
       "      <td>-0.02</td>\n",
       "    </tr>\n",
       "    <tr>\n",
       "      <th>9</th>\n",
       "      <td>2007-07-18</td>\n",
       "      <td>1549.19</td>\n",
       "      <td>1546.17</td>\n",
       "      <td>1549.19</td>\n",
       "      <td>3.609220e+09</td>\n",
       "      <td>Fed chief acknowledges credit fears</td>\n",
       "      <td>Stock Market</td>\n",
       "      <td>Fed chief acknowledges credit fearsUnited Stat...</td>\n",
       "      <td>-0.11</td>\n",
       "    </tr>\n",
       "  </tbody>\n",
       "</table>\n",
       "</div>"
      ],
      "text/plain": [
       "        Date     Open    Close     High        Volume  \\\n",
       "0 2007-06-04  1536.28  1539.18  1540.53  5.477860e+09   \n",
       "1 2007-06-06  1530.56  1517.38  1530.56  1.482095e+10   \n",
       "2 2007-06-21  1512.50  1522.18  1522.90  3.161110e+09   \n",
       "3 2007-06-26  1497.68  1492.89  1506.11  3.398530e+09   \n",
       "4 2007-06-28  1506.31  1505.70  1514.83  3.006710e+09   \n",
       "5 2007-07-05  1524.85  1525.40  1526.56  2.622950e+09   \n",
       "6 2007-07-06  1524.95  1530.43  1532.40  2.441520e+09   \n",
       "7 2007-07-10  1531.84  1510.11  1531.84  3.244280e+09   \n",
       "8 2007-07-12  1518.73  1547.69  1547.92  3.489600e+09   \n",
       "9 2007-07-18  1549.19  1546.17  1549.19  3.609220e+09   \n",
       "\n",
       "                                               Title  \\\n",
       "0  Trade Deficit Increases in March 2007, Blackst...   \n",
       "1  Nonfarm payroll employment increased by 157,00...   \n",
       "2          US Economy is expanding after Q1 slowdown   \n",
       "3       Consumer Confidence and Housing Weaken in US   \n",
       "4  Fed keeps the federal funds rate at 5-1/4 percent   \n",
       "5  U.S. ISM Services Index Reached 14-Month High ...   \n",
       "6        US June unemployment rate unchanged at 4.5%   \n",
       "7  U.S. Growth, Easing Inflation to Follow Fed `S...   \n",
       "8  US trade deficit increases to $60.0 billion in...   \n",
       "9                Fed chief acknowledges credit fears   \n",
       "\n",
       "                                                 Tag  \\\n",
       "0                             Balance of Trade, News   \n",
       "1  Unemployment Rate, Balance of Trade, GDP Growt...   \n",
       "2                                    GDP Growth Rate   \n",
       "3                                    GDP Growth Rate   \n",
       "4                                      Interest Rate   \n",
       "5                                               News   \n",
       "6                                  Unemployment Rate   \n",
       "7                                     Inflation Rate   \n",
       "8                                   Balance of Trade   \n",
       "9                                       Stock Market   \n",
       "\n",
       "                                             Content  sentiment_score  \n",
       "0  Trade Deficit Increases in March 2007United St...             0.03  \n",
       "1  Nonfarm payroll employment increased by 157,00...             0.01  \n",
       "2  US Economy is expanding after Q1 slowdownUnite...             0.03  \n",
       "3  Consumer Confidence and Housing Weaken in USUn...            -0.66  \n",
       "4  Fed keeps the federal funds rate at 5-1/4 perc...             0.16  \n",
       "5  U.S. ISM Services Index Reached 14-Month High ...             0.66  \n",
       "6  US June unemployment rate unchanged at 4.5%Uni...            -0.02  \n",
       "7  U.S. Growth, Easing Inflation to Follow Fed `S...             0.00  \n",
       "8  US trade deficit increases to $60.0 billion in...            -0.02  \n",
       "9  Fed chief acknowledges credit fearsUnited Stat...            -0.11  "
      ]
     },
     "execution_count": 99,
     "metadata": {},
     "output_type": "execute_result"
    }
   ],
   "source": [
    "# Ensure filtered_data is a full copy of data_merged\n",
    "filtered_data = data_merged.copy()\n",
    "\n",
    "# Merge all rows for the same date into one row\n",
    "merged_data = filtered_data.groupby('Date', as_index=False).agg({\n",
    "    'Open': 'first',\n",
    "    'Close': 'first',\n",
    "    'High': 'first',\n",
    "    'Volume': 'sum',  # Summing volumes for the same date\n",
    "    'Title': lambda x: ', '.join(x),  # Joining titles with commas\n",
    "    'Tag': lambda x: ', '.join(x),  # Joining tags with commas\n",
    "    'Content': lambda x: ', '.join(x),  # Joining content with commas\n",
    "    'sentiment_score': 'first'  # Assuming sentiment score is already aggregated\n",
    "})\n",
    "\n",
    "# Display or save the result\n",
    "merged_data.head(10)\n"
   ]
  },
  {
   "cell_type": "markdown",
   "id": "622b12bc-a79a-44ab-bc73-291a8df3cc22",
   "metadata": {},
   "source": [
    "## Movement calculation - Open (t+1) - Close (t)"
   ]
  },
  {
   "cell_type": "code",
   "execution_count": 100,
   "id": "d95972e8-66b7-4db0-b073-c1c994cbc234",
   "metadata": {},
   "outputs": [],
   "source": [
    "merged_data = merged_data.sort_index()\n",
    "\n",
    "# Calculate next-day return\n",
    "merged_data['Movement'] = ((merged_data['Open'].shift(-1) - merged_data['Close']) / merged_data['Close'])\n",
    "\n",
    "# Drop the last row since it doesn't have a future value\n",
    "merged_data = merged_data.dropna(subset=['Movement'])"
   ]
  },
  {
   "cell_type": "code",
   "execution_count": 101,
   "id": "49d0fa40-2bc7-45c9-ad53-781244e71842",
   "metadata": {
    "scrolled": true
   },
   "outputs": [
    {
     "data": {
      "text/html": [
       "<div>\n",
       "<style scoped>\n",
       "    .dataframe tbody tr th:only-of-type {\n",
       "        vertical-align: middle;\n",
       "    }\n",
       "\n",
       "    .dataframe tbody tr th {\n",
       "        vertical-align: top;\n",
       "    }\n",
       "\n",
       "    .dataframe thead th {\n",
       "        text-align: right;\n",
       "    }\n",
       "</style>\n",
       "<table border=\"1\" class=\"dataframe\">\n",
       "  <thead>\n",
       "    <tr style=\"text-align: right;\">\n",
       "      <th></th>\n",
       "      <th>Date</th>\n",
       "      <th>Open</th>\n",
       "      <th>Close</th>\n",
       "      <th>High</th>\n",
       "      <th>Volume</th>\n",
       "      <th>Title</th>\n",
       "      <th>Tag</th>\n",
       "      <th>Content</th>\n",
       "      <th>sentiment_score</th>\n",
       "      <th>Movement</th>\n",
       "    </tr>\n",
       "  </thead>\n",
       "  <tbody>\n",
       "    <tr>\n",
       "      <th>0</th>\n",
       "      <td>2007-06-04</td>\n",
       "      <td>1536.28</td>\n",
       "      <td>1539.18</td>\n",
       "      <td>1540.53</td>\n",
       "      <td>5.477860e+09</td>\n",
       "      <td>Trade Deficit Increases in March 2007, Blackst...</td>\n",
       "      <td>Balance of Trade, News</td>\n",
       "      <td>Trade Deficit Increases in March 2007United St...</td>\n",
       "      <td>0.03</td>\n",
       "      <td>-0.005600</td>\n",
       "    </tr>\n",
       "    <tr>\n",
       "      <th>1</th>\n",
       "      <td>2007-06-06</td>\n",
       "      <td>1530.56</td>\n",
       "      <td>1517.38</td>\n",
       "      <td>1530.56</td>\n",
       "      <td>1.482095e+10</td>\n",
       "      <td>Nonfarm payroll employment increased by 157,00...</td>\n",
       "      <td>Unemployment Rate, Balance of Trade, GDP Growt...</td>\n",
       "      <td>Nonfarm payroll employment increased by 157,00...</td>\n",
       "      <td>0.01</td>\n",
       "      <td>-0.003216</td>\n",
       "    </tr>\n",
       "    <tr>\n",
       "      <th>2</th>\n",
       "      <td>2007-06-21</td>\n",
       "      <td>1512.50</td>\n",
       "      <td>1522.18</td>\n",
       "      <td>1522.90</td>\n",
       "      <td>3.161110e+09</td>\n",
       "      <td>US Economy is expanding after Q1 slowdown</td>\n",
       "      <td>GDP Growth Rate</td>\n",
       "      <td>US Economy is expanding after Q1 slowdownUnite...</td>\n",
       "      <td>0.03</td>\n",
       "      <td>-0.016095</td>\n",
       "    </tr>\n",
       "    <tr>\n",
       "      <th>3</th>\n",
       "      <td>2007-06-26</td>\n",
       "      <td>1497.68</td>\n",
       "      <td>1492.89</td>\n",
       "      <td>1506.11</td>\n",
       "      <td>3.398530e+09</td>\n",
       "      <td>Consumer Confidence and Housing Weaken in US</td>\n",
       "      <td>GDP Growth Rate</td>\n",
       "      <td>Consumer Confidence and Housing Weaken in USUn...</td>\n",
       "      <td>-0.66</td>\n",
       "      <td>0.008989</td>\n",
       "    </tr>\n",
       "    <tr>\n",
       "      <th>4</th>\n",
       "      <td>2007-06-28</td>\n",
       "      <td>1506.31</td>\n",
       "      <td>1505.70</td>\n",
       "      <td>1514.83</td>\n",
       "      <td>3.006710e+09</td>\n",
       "      <td>Fed keeps the federal funds rate at 5-1/4 percent</td>\n",
       "      <td>Interest Rate</td>\n",
       "      <td>Fed keeps the federal funds rate at 5-1/4 perc...</td>\n",
       "      <td>0.16</td>\n",
       "      <td>0.012718</td>\n",
       "    </tr>\n",
       "  </tbody>\n",
       "</table>\n",
       "</div>"
      ],
      "text/plain": [
       "        Date     Open    Close     High        Volume  \\\n",
       "0 2007-06-04  1536.28  1539.18  1540.53  5.477860e+09   \n",
       "1 2007-06-06  1530.56  1517.38  1530.56  1.482095e+10   \n",
       "2 2007-06-21  1512.50  1522.18  1522.90  3.161110e+09   \n",
       "3 2007-06-26  1497.68  1492.89  1506.11  3.398530e+09   \n",
       "4 2007-06-28  1506.31  1505.70  1514.83  3.006710e+09   \n",
       "\n",
       "                                               Title  \\\n",
       "0  Trade Deficit Increases in March 2007, Blackst...   \n",
       "1  Nonfarm payroll employment increased by 157,00...   \n",
       "2          US Economy is expanding after Q1 slowdown   \n",
       "3       Consumer Confidence and Housing Weaken in US   \n",
       "4  Fed keeps the federal funds rate at 5-1/4 percent   \n",
       "\n",
       "                                                 Tag  \\\n",
       "0                             Balance of Trade, News   \n",
       "1  Unemployment Rate, Balance of Trade, GDP Growt...   \n",
       "2                                    GDP Growth Rate   \n",
       "3                                    GDP Growth Rate   \n",
       "4                                      Interest Rate   \n",
       "\n",
       "                                             Content  sentiment_score  \\\n",
       "0  Trade Deficit Increases in March 2007United St...             0.03   \n",
       "1  Nonfarm payroll employment increased by 157,00...             0.01   \n",
       "2  US Economy is expanding after Q1 slowdownUnite...             0.03   \n",
       "3  Consumer Confidence and Housing Weaken in USUn...            -0.66   \n",
       "4  Fed keeps the federal funds rate at 5-1/4 perc...             0.16   \n",
       "\n",
       "   Movement  \n",
       "0 -0.005600  \n",
       "1 -0.003216  \n",
       "2 -0.016095  \n",
       "3  0.008989  \n",
       "4  0.012718  "
      ]
     },
     "execution_count": 101,
     "metadata": {},
     "output_type": "execute_result"
    }
   ],
   "source": [
    "merged_data.head()"
   ]
  },
  {
   "cell_type": "code",
   "execution_count": 102,
   "id": "de16e851-b5b8-4f99-bff5-68eacc5bd5dd",
   "metadata": {},
   "outputs": [
    {
     "name": "stdout",
     "output_type": "stream",
     "text": [
      "Correlation with Next_Day_Return:\n",
      "Open: 0.0129\n",
      "Close: 0.0110\n",
      "High: 0.0118\n",
      "Volume: -0.0119\n",
      "sentiment_score: -0.0094\n"
     ]
    }
   ],
   "source": [
    "# Assuming df already has Next_Day_Return and is cleaned\n",
    "# List of features you want to analyze\n",
    "feature_cols = ['Open', 'Close', 'High', 'Volume', 'sentiment_score']\n",
    "\n",
    "# Calculate the correlation matrix for all features including Next_Day_Return\n",
    "corr_matrix = merged_data[feature_cols + ['Movement']].corr()\n",
    "\n",
    "# Print the correlation of each feature with Next_Day_Return\n",
    "print(\"Correlation with Next_Day_Return:\")\n",
    "for col in feature_cols:\n",
    "    print(f\"{col}: {corr_matrix.loc[col, 'Movement']:.4f}\")\n"
   ]
  },
  {
   "cell_type": "markdown",
   "id": "65fb09af-4c48-4abe-bc83-8b1d05f66821",
   "metadata": {},
   "source": [
    "## Feature Engineering"
   ]
  },
  {
   "cell_type": "markdown",
   "id": "06d6a7b3-465c-4b67-bfe5-807d39a71c90",
   "metadata": {},
   "source": [
    "### 1. Lagged Features"
   ]
  },
  {
   "cell_type": "code",
   "execution_count": 103,
   "id": "e73388c7-1f96-4325-bc6b-51aff5188c47",
   "metadata": {},
   "outputs": [],
   "source": [
    "# Create lagged features (e.g., 1-day lag)\n",
    "merged_data['Open_lag1'] = merged_data['Open'].shift(1)\n",
    "merged_data['Close_lag1'] = merged_data['Close'].shift(1)\n",
    "merged_data['High_lag1'] = merged_data['High'].shift(1)\n",
    "merged_data['Volume_lag1'] = merged_data['Volume'].shift(1)\n",
    "merged_data['Sentiment_lag1'] = merged_data['sentiment_score'].shift(1)\n",
    "\n",
    "# Drop rows introduced by shifting at the start of dataset\n",
    "merged_data = merged_data.dropna(subset=['Open_lag1', 'Close_lag1', 'High_lag1', 'Volume_lag1', 'Sentiment_lag1', 'Movement'])\n"
   ]
  },
  {
   "cell_type": "code",
   "execution_count": 104,
   "id": "55c756fb-8704-4c90-a0e6-55fde334b838",
   "metadata": {},
   "outputs": [],
   "source": [
    "# Create lagged features (e.g., 2-day lag)\n",
    "merged_data['Open_lag2'] = merged_data['Open'].shift(2)\n",
    "merged_data['Close_lag2'] = merged_data['Close'].shift(2)\n",
    "merged_data['High_lag2'] = merged_data['High'].shift(2)\n",
    "merged_data['Volume_lag2'] = merged_data['Volume'].shift(2)\n",
    "merged_data['Sentiment_lag2'] = merged_data['sentiment_score'].shift(2)\n",
    "\n",
    "# Drop rows introduced by shifting at the start of dataset\n",
    "merged_data = merged_data.dropna(subset=['Open_lag2', 'Close_lag2', 'High_lag2', 'Volume_lag2', 'Sentiment_lag2', 'Movement'])\n"
   ]
  },
  {
   "cell_type": "code",
   "execution_count": 105,
   "id": "0cc8e1eb-e127-4aeb-9b0f-581dcd435887",
   "metadata": {},
   "outputs": [],
   "source": [
    "# Create lagged features (e.g., 3-day lag)\n",
    "merged_data['Open_lag3'] = merged_data['Open'].shift(3)\n",
    "merged_data['Close_lag3'] = merged_data['Close'].shift(3)\n",
    "merged_data['High_lag3'] = merged_data['High'].shift(3)\n",
    "merged_data['Volume_lag3'] = merged_data['Volume'].shift(3)\n",
    "merged_data['Sentiment_lag3'] = merged_data['sentiment_score'].shift(3)\n",
    "\n",
    "# Drop rows introduced by shifting at the start of dataset\n",
    "merged_data = merged_data.dropna(subset=['Open_lag3', 'Close_lag3', 'High_lag3', 'Volume_lag3', 'Sentiment_lag3', 'Movement'])\n"
   ]
  },
  {
   "cell_type": "code",
   "execution_count": 106,
   "id": "f5e5e876-2690-42ba-9f76-f0654d0ff1ea",
   "metadata": {},
   "outputs": [
    {
     "name": "stdout",
     "output_type": "stream",
     "text": [
      "Correlation with Movement:\n",
      "Open_lag1: 0.0116\n",
      "Close_lag1: 0.0129\n",
      "High_lag1: 0.0117\n",
      "Volume_lag1: 0.0079\n",
      "Sentiment_lag1: -0.0026\n",
      "Open_lag2: 0.0112\n",
      "Close_lag2: 0.0110\n",
      "High_lag2: 0.0109\n",
      "Volume_lag2: -0.0052\n",
      "Sentiment_lag2: 0.0030\n",
      "Open_lag3: 0.0120\n",
      "Close_lag3: 0.0115\n",
      "High_lag3: 0.0117\n",
      "Volume_lag3: 0.0210\n",
      "Sentiment_lag3: -0.0113\n"
     ]
    }
   ],
   "source": [
    "# Update feature list with newly created features\n",
    "new_features = ['Open_lag1', 'Close_lag1', 'High_lag1', 'Volume_lag1', 'Sentiment_lag1','Open_lag2', 'Close_lag2', 'High_lag2', 'Volume_lag2', 'Sentiment_lag2','Open_lag3', 'Close_lag3', 'High_lag3', 'Volume_lag3', 'Sentiment_lag3']\n",
    "\n",
    "# Compute correlation matrix again\n",
    "corr_matrix = merged_data[new_features + ['Movement']].corr()\n",
    "\n",
    "print(\"Correlation with Movement:\")\n",
    "for f in new_features:\n",
    "    print(f\"{f}: {corr_matrix.loc[f, 'Movement']:.4f}\")\n"
   ]
  },
  {
   "cell_type": "markdown",
   "id": "9191a0c5-98ca-4edd-90d4-2c8c6aad1097",
   "metadata": {},
   "source": [
    "### 2. Rolling Averages"
   ]
  },
  {
   "cell_type": "code",
   "execution_count": 107,
   "id": "800eb5a7-35c6-46f1-88b7-ca4dffee7a32",
   "metadata": {},
   "outputs": [],
   "source": [
    "# 5-day windows\n",
    "merged_data['Open_5d_SMA'] = merged_data['Open'].rolling(window=5).mean()\n",
    "merged_data['Close_5d_SMA'] = merged_data['Close'].rolling(window=5).mean()\n",
    "merged_data['High_5d_SMA'] = merged_data['High'].rolling(window=5).mean()\n",
    "merged_data['Volume_5d_SMA'] = merged_data['Volume'].rolling(window=5).mean()\n",
    "merged_data['Sentiment_5d_SMA'] = merged_data['sentiment_score'].rolling(window=5).mean()\n",
    "\n",
    "# 7-day windows\n",
    "merged_data['Open_7d_SMA'] = merged_data['Open'].rolling(window=7).mean()\n",
    "merged_data['Close_7d_SMA'] = merged_data['Close'].rolling(window=7).mean()\n",
    "merged_data['High_7d_SMA'] = merged_data['High'].rolling(window=7).mean()\n",
    "merged_data['Volume_7d_SMA'] = merged_data['Volume'].rolling(window=7).mean()\n",
    "merged_data['Sentiment_7d_SMA'] = merged_data['sentiment_score'].rolling(window=7).mean()\n",
    "\n",
    "# 7-day windows\n",
    "merged_data['Open_14d_SMA'] = merged_data['Open'].rolling(window=14).mean()\n",
    "merged_data['Close_14d_SMA'] = merged_data['Close'].rolling(window=14).mean()\n",
    "merged_data['High_14d_SMA'] = merged_data['High'].rolling(window=14).mean()\n",
    "merged_data['Volume_14d_SMA'] = merged_data['Volume'].rolling(window=14).mean()\n",
    "merged_data['Sentiment_14d_SMA'] = merged_data['sentiment_score'].rolling(window=14).mean()\n",
    "\n",
    "\n",
    "# Drop rows with NaN due to rolling at dataset start\n",
    "merged_data = merged_data.dropna(subset=['Open_5d_SMA', 'Close_5d_SMA', 'High_5d_SMA', 'Volume_5d_SMA', 'Sentiment_5d_SMA', 'Open_7d_SMA', 'Close_7d_SMA', 'High_7d_SMA', 'Volume_7d_SMA', 'Sentiment_7d_SMA', 'Open_14d_SMA', 'Close_14d_SMA', 'High_14d_SMA', 'Volume_14d_SMA', 'Sentiment_14d_SMA', 'Movement'])\n"
   ]
  },
  {
   "cell_type": "code",
   "execution_count": 108,
   "id": "2c97add8-d272-42a0-9634-e7db6fb44063",
   "metadata": {},
   "outputs": [
    {
     "name": "stdout",
     "output_type": "stream",
     "text": [
      "Correlation with Movement:\n",
      "Open_5d_SMA: 0.0109\n",
      "Close_5d_SMA: 0.0108\n",
      "High_5d_SMA: 0.0106\n",
      "Volume_5d_SMA: 0.0059\n",
      "Sentiment_5d_SMA: -0.0014\n",
      "Open_7d_SMA: 0.0111\n",
      "Close_7d_SMA: 0.0110\n",
      "High_7d_SMA: 0.0108\n",
      "Volume_7d_SMA: 0.0029\n",
      "Sentiment_7d_SMA: -0.0006\n",
      "Open_14d_SMA: 0.0103\n",
      "Close_14d_SMA: 0.0104\n",
      "High_14d_SMA: 0.0101\n",
      "Volume_14d_SMA: 0.0065\n",
      "Sentiment_14d_SMA: 0.0058\n"
     ]
    }
   ],
   "source": [
    "# Update feature list with newly created features\n",
    "new_features = ['Open_5d_SMA', 'Close_5d_SMA', 'High_5d_SMA', 'Volume_5d_SMA', 'Sentiment_5d_SMA', 'Open_7d_SMA', 'Close_7d_SMA', 'High_7d_SMA', 'Volume_7d_SMA', 'Sentiment_7d_SMA', 'Open_14d_SMA', 'Close_14d_SMA', 'High_14d_SMA', 'Volume_14d_SMA', 'Sentiment_14d_SMA']\n",
    "\n",
    "# Compute correlation matrix again\n",
    "corr_matrix = merged_data[new_features + ['Movement']].corr()\n",
    "\n",
    "print(\"Correlation with Movement:\")\n",
    "for f in new_features:\n",
    "    print(f\"{f}: {corr_matrix.loc[f, 'Movement']:.4f}\")"
   ]
  },
  {
   "cell_type": "markdown",
   "id": "58dd6b78-439e-4fef-baf4-b513268a36a9",
   "metadata": {},
   "source": [
    "### 3. Rolling Volatility"
   ]
  },
  {
   "cell_type": "code",
   "execution_count": 109,
   "id": "52fb98b1-2276-4e65-83fc-64a648d1e6f6",
   "metadata": {},
   "outputs": [],
   "source": [
    "merged_data['Open_10d_STD'] = merged_data['Open'].rolling(window=10).std()\n",
    "merged_data['Close_10d_STD'] = merged_data['Close'].rolling(window=10).std()\n",
    "merged_data['High_10d_STD'] = merged_data['High'].rolling(window=10).std()\n",
    "merged_data['Volume_10d_STD'] = merged_data['Volume'].rolling(window=10).std()\n",
    "merged_data['Sentiment_10d_STD'] = merged_data['sentiment_score'].rolling(window=10).std()\n",
    "\n",
    "# Drop rows with NaN due to rolling\n",
    "merged_data = merged_data.dropna(subset=['Open_10d_STD', 'Close_10d_STD', 'High_10d_STD', 'Volume_10d_STD', 'Sentiment_10d_STD', 'Movement'])\n"
   ]
  },
  {
   "cell_type": "code",
   "execution_count": 110,
   "id": "4ba555be-5680-48fa-a944-1278357017ca",
   "metadata": {},
   "outputs": [
    {
     "name": "stdout",
     "output_type": "stream",
     "text": [
      "Correlation with Movement:\n",
      "Open_10d_STD: -0.0221\n",
      "Close_10d_STD: -0.0169\n",
      "High_10d_STD: -0.0230\n",
      "Volume_10d_STD: 0.0098\n",
      "Sentiment_10d_STD: 0.0205\n"
     ]
    }
   ],
   "source": [
    "# Update feature list with newly created features\n",
    "new_features = ['Open_10d_STD', 'Close_10d_STD', 'High_10d_STD', 'Volume_10d_STD', 'Sentiment_10d_STD']\n",
    "\n",
    "# Compute correlation matrix again\n",
    "corr_matrix = merged_data[new_features + ['Movement']].corr()\n",
    "\n",
    "print(\"Correlation with Movement:\")\n",
    "for f in new_features:\n",
    "    print(f\"{f}: {corr_matrix.loc[f, 'Movement']:.4f}\")"
   ]
  },
  {
   "cell_type": "markdown",
   "id": "066b920a-fd0f-4164-ab88-2540936f5637",
   "metadata": {},
   "source": [
    "## Causality Testing"
   ]
  },
  {
   "cell_type": "markdown",
   "id": "291bd59a-e830-4eb4-9809-3ec5d5a03b95",
   "metadata": {},
   "source": [
    "### 1. Stationarity Testing"
   ]
  },
  {
   "cell_type": "code",
   "execution_count": 111,
   "id": "2dc710ac-a282-4241-933b-9427c376c69b",
   "metadata": {},
   "outputs": [
    {
     "name": "stdout",
     "output_type": "stream",
     "text": [
      "ADF Statistic:  -9.974300468170076\n",
      "p-value:  2.198310053058716e-17\n",
      "Critical Values:\n",
      "   1%, -3.432718083748152\n",
      "Critical Values:\n",
      "   5%, -2.862586250752157\n",
      "Critical Values:\n",
      "   10%, -2.5673269523447004\n"
     ]
    }
   ],
   "source": [
    "# Let's test stationarity on the 'Movement' series\n",
    "movement_series = merged_data['Movement'].dropna()\n",
    "\n",
    "adf_result = ts.adfuller(movement_series, autolag='AIC')\n",
    "\n",
    "print(\"ADF Statistic: \", adf_result[0])\n",
    "print(\"p-value: \", adf_result[1])\n",
    "for key, value in adf_result[4].items():\n",
    "    print('Critical Values:')\n",
    "    print(f'   {key}, {value}')\n"
   ]
  },
  {
   "cell_type": "code",
   "execution_count": 112,
   "id": "aaa51efe-d18f-4795-bf00-be611d047450",
   "metadata": {},
   "outputs": [
    {
     "name": "stdout",
     "output_type": "stream",
     "text": [
      "ADF Statistic:  -7.101849497439868\n",
      "p-value:  4.1484705702213904e-10\n",
      "Critical Values:\n",
      "   1%, -3.432716369874773\n",
      "Critical Values:\n",
      "   5%, -2.8625854938408413\n",
      "Critical Values:\n",
      "   10%, -2.5673265493658404\n"
     ]
    }
   ],
   "source": [
    "# Let's test stationarity on the 'sentiment' series\n",
    "movement_series = merged_data['sentiment_score'].dropna()\n",
    "\n",
    "adf_result = ts.adfuller(movement_series, autolag='AIC')\n",
    "\n",
    "print(\"ADF Statistic: \", adf_result[0])\n",
    "print(\"p-value: \", adf_result[1])\n",
    "for key, value in adf_result[4].items():\n",
    "    print('Critical Values:')\n",
    "    print(f'   {key}, {value}')\n"
   ]
  },
  {
   "cell_type": "markdown",
   "id": "120469dd-b76e-4137-b9c5-9724b191fee6",
   "metadata": {},
   "source": [
    "### 2. Granger Causality Testing"
   ]
  },
  {
   "cell_type": "code",
   "execution_count": 113,
   "id": "144eb7b3-532d-4680-8320-9a21a86b9492",
   "metadata": {},
   "outputs": [
    {
     "data": {
      "text/plain": [
       "Index(['Date', 'Open', 'Close', 'High', 'Volume', 'Title', 'Tag', 'Content',\n",
       "       'sentiment_score', 'Movement', 'Open_lag1', 'Close_lag1', 'High_lag1',\n",
       "       'Volume_lag1', 'Sentiment_lag1', 'Open_lag2', 'Close_lag2', 'High_lag2',\n",
       "       'Volume_lag2', 'Sentiment_lag2', 'Open_lag3', 'Close_lag3', 'High_lag3',\n",
       "       'Volume_lag3', 'Sentiment_lag3', 'Open_5d_SMA', 'Close_5d_SMA',\n",
       "       'High_5d_SMA', 'Volume_5d_SMA', 'Sentiment_5d_SMA', 'Open_7d_SMA',\n",
       "       'Close_7d_SMA', 'High_7d_SMA', 'Volume_7d_SMA', 'Sentiment_7d_SMA',\n",
       "       'Open_14d_SMA', 'Close_14d_SMA', 'High_14d_SMA', 'Volume_14d_SMA',\n",
       "       'Sentiment_14d_SMA', 'Open_10d_STD', 'Close_10d_STD', 'High_10d_STD',\n",
       "       'Volume_10d_STD', 'Sentiment_10d_STD'],\n",
       "      dtype='object')"
      ]
     },
     "execution_count": 113,
     "metadata": {},
     "output_type": "execute_result"
    }
   ],
   "source": [
    "merged_data.columns"
   ]
  },
  {
   "cell_type": "code",
   "execution_count": 114,
   "id": "f370b790-506c-4a68-9882-9473611e870b",
   "metadata": {},
   "outputs": [
    {
     "name": "stdout",
     "output_type": "stream",
     "text": [
      "\n",
      "Granger Causality\n",
      "number of lags (no zero) 1\n",
      "ssr based F test:         F=0.0137  , p=0.9067  , df_denom=2781, df_num=1\n",
      "ssr based chi2 test:   chi2=0.0138  , p=0.9066  , df=1\n",
      "likelihood ratio test: chi2=0.0138  , p=0.9066  , df=1\n",
      "parameter F test:         F=0.0137  , p=0.9067  , df_denom=2781, df_num=1\n",
      "\n",
      "Granger Causality\n",
      "number of lags (no zero) 2\n",
      "ssr based F test:         F=0.1332  , p=0.8753  , df_denom=2778, df_num=2\n",
      "ssr based chi2 test:   chi2=0.2669  , p=0.8751  , df=2\n",
      "likelihood ratio test: chi2=0.2669  , p=0.8751  , df=2\n",
      "parameter F test:         F=0.1332  , p=0.8753  , df_denom=2778, df_num=2\n",
      "\n",
      "Granger Causality\n",
      "number of lags (no zero) 3\n",
      "ssr based F test:         F=0.3292  , p=0.8043  , df_denom=2775, df_num=3\n",
      "ssr based chi2 test:   chi2=0.9900  , p=0.8037  , df=3\n",
      "likelihood ratio test: chi2=0.9898  , p=0.8037  , df=3\n",
      "parameter F test:         F=0.3292  , p=0.8043  , df_denom=2775, df_num=3\n"
     ]
    },
    {
     "name": "stderr",
     "output_type": "stream",
     "text": [
      "/opt/anaconda3/envs/thesis/lib/python3.9/site-packages/statsmodels/tsa/stattools.py:1545: FutureWarning: verbose is deprecated since functions should not print results\n",
      "  warnings.warn(\n"
     ]
    }
   ],
   "source": [
    "# Drop NA values\n",
    "merged_data = merged_data.dropna(subset=['sentiment_score', 'Movement'])\n",
    "\n",
    "# Prepare data: [Affected_Series (Movement), Causing_Series (sentiment_score)]\n",
    "test_data = merged_data[['Movement', 'sentiment_score']]\n",
    "\n",
    "# Perform Granger causality test for lags from 1 to 3\n",
    "max_lag = 3\n",
    "granger_results = grangercausalitytests(test_data, maxlag=max_lag, verbose=True)\n"
   ]
  },
  {
   "cell_type": "markdown",
   "id": "96137a71-593e-4e1b-a3c6-fa2a3803e977",
   "metadata": {},
   "source": [
    "No Causality between sentiment score and Movement."
   ]
  },
  {
   "cell_type": "markdown",
   "id": "e6557f03-ce9f-4bd5-b294-cd25e7527eca",
   "metadata": {},
   "source": [
    "## Causality Testing for Volatility"
   ]
  },
  {
   "cell_type": "code",
   "execution_count": 115,
   "id": "bb4e060d-d4cc-4143-b29f-c6a90ad0cec8",
   "metadata": {},
   "outputs": [],
   "source": [
    "df = merged_data.copy()"
   ]
  },
  {
   "cell_type": "code",
   "execution_count": 130,
   "id": "84e6135a-d104-4688-9e16-b826788f4dd6",
   "metadata": {},
   "outputs": [],
   "source": [
    "# Assume df has columns: ['Close', 'Aggregate_Sentiment']\n",
    "# Sort by date if not already\n",
    "df = df.sort_index()\n",
    "\n",
    "# Calculate daily returns (in percentage)\n",
    "df['Daily_Return'] = df['Close'].pct_change() * 100\n",
    "\n",
    "# Choose a rolling window (e.g., 10 days) for volatility\n",
    "window_size = 5\n",
    "df['Volatility'] = df['Daily_Return'].rolling(window=window_size).std()\n",
    "\n",
    "# Drop the initial NaNs from rolling calculation\n",
    "df = df.dropna(subset=['Volatility'])\n"
   ]
  },
  {
   "cell_type": "code",
   "execution_count": 131,
   "id": "c89422a2-595e-4c05-be42-49ab4886a130",
   "metadata": {},
   "outputs": [],
   "source": [
    "df = df.dropna(subset=['sentiment_score', 'Volatility'])"
   ]
  },
  {
   "cell_type": "code",
   "execution_count": 132,
   "id": "7c88631f-33f4-4916-bf76-42cde433404c",
   "metadata": {},
   "outputs": [],
   "source": [
    "from statsmodels.tsa.stattools import grangercausalitytests\n",
    "\n",
    "max_lag = 3\n",
    "significance_level = 0.05\n"
   ]
  },
  {
   "cell_type": "code",
   "execution_count": 133,
   "id": "8129f6fa-ac69-41bf-ad2b-3a02b96f3a72",
   "metadata": {},
   "outputs": [
    {
     "name": "stdout",
     "output_type": "stream",
     "text": [
      "At lag 1, p-value=0.0000455, sentiment_score Granger causes Volatility.\n"
     ]
    },
    {
     "name": "stderr",
     "output_type": "stream",
     "text": [
      "/opt/anaconda3/envs/thesis/lib/python3.9/site-packages/statsmodels/tsa/stattools.py:1545: FutureWarning: verbose is deprecated since functions should not print results\n",
      "  warnings.warn(\n"
     ]
    }
   ],
   "source": [
    "test_data_1 = df[['Volatility', 'sentiment_score']]\n",
    "results_1 = grangercausalitytests(test_data_1, maxlag=max_lag, verbose=False)\n",
    "\n",
    "# Check if any lag shows significance\n",
    "sent_cause_vol = False\n",
    "for lag in range(1, max_lag+1):\n",
    "    p_value = results_1[lag][0]['ssr_ftest'][1]\n",
    "    if p_value < significance_level:\n",
    "        sent_cause_vol = True\n",
    "        print(f\"At lag {lag}, p-value={p_value:.7f}, sentiment_score Granger causes Volatility.\")\n",
    "        break\n",
    "\n",
    "if not sent_cause_vol:\n",
    "    print(\"No evidence that Aggregate_Sentiment Granger causes Volatility at tested lags.\")\n"
   ]
  },
  {
   "cell_type": "code",
   "execution_count": 134,
   "id": "6ff017f6-0b3e-4768-8a44-53d783e38d39",
   "metadata": {},
   "outputs": [
    {
     "name": "stdout",
     "output_type": "stream",
     "text": [
      "At lag 1, p-value=0.0000000, Volatility Granger causes sentiment_score.\n"
     ]
    },
    {
     "name": "stderr",
     "output_type": "stream",
     "text": [
      "/opt/anaconda3/envs/thesis/lib/python3.9/site-packages/statsmodels/tsa/stattools.py:1545: FutureWarning: verbose is deprecated since functions should not print results\n",
      "  warnings.warn(\n"
     ]
    }
   ],
   "source": [
    "test_data_2 = df[['sentiment_score', 'Volatility']]\n",
    "results_2 = grangercausalitytests(test_data_2, maxlag=max_lag, verbose=False)\n",
    "\n",
    "# Check if any lag shows significance\n",
    "vol_cause_sent = False\n",
    "for lag in range(1, max_lag+1):\n",
    "    p_value = results_2[lag][0]['ssr_ftest'][1]\n",
    "    if p_value < significance_level:\n",
    "        vol_cause_sent = True\n",
    "        print(f\"At lag {lag}, p-value={p_value:.7f}, Volatility Granger causes sentiment_score.\")\n",
    "        break\n",
    "\n",
    "if not vol_cause_sent:\n",
    "    print(\"No evidence that Volatility Granger causes Aggregate_Sentiment at tested lags.\")\n"
   ]
  },
  {
   "cell_type": "code",
   "execution_count": 135,
   "id": "2d12cef3-4bf6-4737-ad45-9d62194ef60a",
   "metadata": {},
   "outputs": [
    {
     "name": "stdout",
     "output_type": "stream",
     "text": [
      "At lag 1, p-value=0.0410548, Movement Granger causes Volatility.\n"
     ]
    },
    {
     "name": "stderr",
     "output_type": "stream",
     "text": [
      "/opt/anaconda3/envs/thesis/lib/python3.9/site-packages/statsmodels/tsa/stattools.py:1545: FutureWarning: verbose is deprecated since functions should not print results\n",
      "  warnings.warn(\n"
     ]
    }
   ],
   "source": [
    "test_data_1 = df[['Volatility', 'Movement']]\n",
    "results_1 = grangercausalitytests(test_data_1, maxlag=max_lag, verbose=False)\n",
    "\n",
    "# Check if any lag shows significance\n",
    "sent_cause_vol = False\n",
    "for lag in range(1, max_lag+1):\n",
    "    p_value = results_1[lag][0]['ssr_ftest'][1]\n",
    "    if p_value < significance_level:\n",
    "        sent_cause_vol = True\n",
    "        print(f\"At lag {lag}, p-value={p_value:.7f}, Movement Granger causes Volatility.\")\n",
    "        break\n",
    "\n",
    "if not sent_cause_vol:\n",
    "    print(\"No evidence that Aggregate_Sentiment Granger causes Volatility at tested lags.\")\n"
   ]
  },
  {
   "cell_type": "code",
   "execution_count": 136,
   "id": "6992a1d4-e73a-4bb0-9323-7afa01ac710c",
   "metadata": {},
   "outputs": [
    {
     "name": "stdout",
     "output_type": "stream",
     "text": [
      "At lag 1, p-value=0.0003909, Volatility Granger causes Movement.\n"
     ]
    },
    {
     "name": "stderr",
     "output_type": "stream",
     "text": [
      "/opt/anaconda3/envs/thesis/lib/python3.9/site-packages/statsmodels/tsa/stattools.py:1545: FutureWarning: verbose is deprecated since functions should not print results\n",
      "  warnings.warn(\n"
     ]
    }
   ],
   "source": [
    "test_data_1 = df[['Movement','Volatility']]\n",
    "results_1 = grangercausalitytests(test_data_1, maxlag=max_lag, verbose=False)\n",
    "\n",
    "# Check if any lag shows significance\n",
    "sent_cause_vol = False\n",
    "for lag in range(1, max_lag+1):\n",
    "    p_value = results_1[lag][0]['ssr_ftest'][1]\n",
    "    if p_value < significance_level:\n",
    "        sent_cause_vol = True\n",
    "        print(f\"At lag {lag}, p-value={p_value:.7f}, Volatility Granger causes Movement.\")\n",
    "        break\n",
    "\n",
    "if not sent_cause_vol:\n",
    "    print(\"No evidence that Movement Granger causes Volatility at tested lags.\")\n"
   ]
  },
  {
   "cell_type": "markdown",
   "id": "2c756f50-9e21-4ffe-bb7b-c2206707d297",
   "metadata": {},
   "source": [
    "Sentiment Score Granger Causes Volatility which Granger Causes Movement. since, there is no direct causality between sentiment score and Movement, we can use Volatility as an added feature."
   ]
  },
  {
   "cell_type": "code",
   "execution_count": null,
   "id": "199d9d57-4a36-496f-addd-67db9c3d81d9",
   "metadata": {},
   "outputs": [],
   "source": []
  }
 ],
 "metadata": {
  "kernelspec": {
   "display_name": "Python 3 (ipykernel)",
   "language": "python",
   "name": "python3"
  },
  "language_info": {
   "codemirror_mode": {
    "name": "ipython",
    "version": 3
   },
   "file_extension": ".py",
   "mimetype": "text/x-python",
   "name": "python",
   "nbconvert_exporter": "python",
   "pygments_lexer": "ipython3",
   "version": "3.9.19"
  }
 },
 "nbformat": 4,
 "nbformat_minor": 5
}
